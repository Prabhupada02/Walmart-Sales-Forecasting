{
 "cells": [
  {
   "cell_type": "code",
   "execution_count": null,
   "metadata": {},
   "outputs": [],
   "source": []
  },
  {
   "cell_type": "code",
   "execution_count": null,
   "metadata": {},
   "outputs": [],
   "source": []
  },
  {
   "cell_type": "markdown",
   "metadata": {},
   "source": [
    "# Importing Packages"
   ]
  },
  {
   "cell_type": "code",
   "execution_count": 19,
   "metadata": {},
   "outputs": [],
   "source": [
    "import numpy as np\n",
    "import pandas as pd\n",
    "from datetime import datetime\n",
    "\n",
    "import matplotlib.pyplot as plt\n",
    "import seaborn as sns\n",
    "%matplotlib inline\n",
    "\n",
    "\n",
    "from sklearn.feature_selection import f_regression, RFE, VarianceThreshold\n",
    "from statsmodels.stats.outliers_influence import variance_inflation_factor\n",
    "from patsy import dmatrices\n",
    "\n",
    "import statsmodels.formula.api as smf\n",
    "\n",
    "from sklearn.preprocessing import StandardScaler, MinMaxScaler, LabelEncoder, RobustScaler\n",
    "from sklearn.model_selection import train_test_split, GridSearchCV\n",
    "from sklearn.neighbors import KNeighborsRegressor\n",
    "from sklearn.ensemble import RandomForestRegressor, ExtraTreesRegressor, GradientBoostingRegressor\n",
    "from sklearn import metrics\n",
    "\n",
    "from scipy import stats\n",
    "import pylab\n",
    "\n",
    "# Ignore warnings\n",
    "import warnings\n",
    "warnings.filterwarnings('ignore')"
   ]
  },
  {
   "cell_type": "code",
   "execution_count": 20,
   "metadata": {},
   "outputs": [],
   "source": [
    "#Writing output data into excel\n",
    "output = pd.ExcelWriter('walmartsales1_output.xlsx')"
   ]
  },
  {
   "cell_type": "markdown",
   "metadata": {},
   "source": [
    "# Creating UDF's"
   ]
  },
  {
   "cell_type": "code",
   "execution_count": 21,
   "metadata": {},
   "outputs": [],
   "source": [
    "# Create Statistical Summary for continuous variables\n",
    "def continuous_var_summary(x):\n",
    "    return pd.Series([x.count(), len(x.value_counts()), x.isnull().sum(), x.sum(), x.mean(), x.median(),  \n",
    "                      x.std(), x.var(), x.min(), x.quantile(0.01), x.quantile(0.50),\n",
    "                      x.quantile(0.99),x.max()], \n",
    "                      index = ['Count', 'Unique', 'NMISS', 'SUM', 'MEAN','MEDIAN', 'STD', 'VAR', 'MIN',\n",
    "                               'P1', 'P50', 'P99' ,'MAX'])"
   ]
  },
  {
   "cell_type": "code",
   "execution_count": 22,
   "metadata": {},
   "outputs": [],
   "source": [
    "# Create Statistical Summary for categorical variables\n",
    "def categorical_var_summary(a):\n",
    "    Mode = a.value_counts().sort_values(ascending = False)[0:1].reset_index()\n",
    "    return pd.Series([a.count(), a.isnull().sum(), len(a.value_counts()), Mode.iloc[0, 0], Mode.iloc[0, 1], \n",
    "                      round(((Mode.iloc[0, 1] * 100)/a.count()), 2)], \n",
    "                      index = ['COUNT', 'MISS', 'UNIQUE', 'MODE', 'FREQ', 'PERCENT'])"
   ]
  },
  {
   "cell_type": "code",
   "execution_count": 23,
   "metadata": {},
   "outputs": [],
   "source": [
    "#Outlier treatment function\n",
    "def outlier_capping(x):\n",
    "    x = x.clip(lower = x.quantile(0.01),upper = x.quantile(0.99))\n",
    "    return x"
   ]
  },
  {
   "cell_type": "markdown",
   "metadata": {},
   "source": [
    "# Importing Files"
   ]
  },
  {
   "cell_type": "code",
   "execution_count": 24,
   "metadata": {},
   "outputs": [],
   "source": [
    "train = pd.read_csv('train.csv')\n",
    "test = pd.read_csv('test.csv')\n",
    "stores = pd.read_csv('stores.csv')\n",
    "features = pd.read_csv('features.csv')"
   ]
  },
  {
   "cell_type": "markdown",
   "metadata": {},
   "source": [
    "# Data Understanding"
   ]
  },
  {
   "cell_type": "code",
   "execution_count": 25,
   "metadata": {},
   "outputs": [],
   "source": [
    "#Merging Datasets\n",
    "t1 = train.merge(features, on = ['Store', 'Date', 'IsHoliday'])\n",
    "train_data = t1.merge(stores, on = 'Store')\n",
    "\n",
    "t2 = test.merge(features, on = ['Store', 'Date', 'IsHoliday'])\n",
    "test_data= t2.merge(stores, on = 'Store')"
   ]
  },
  {
   "cell_type": "code",
   "execution_count": 26,
   "metadata": {},
   "outputs": [
    {
     "name": "stdout",
     "output_type": "stream",
     "text": [
      "<class 'pandas.core.frame.DataFrame'>\n",
      "Int64Index: 421570 entries, 0 to 421569\n",
      "Data columns (total 16 columns):\n",
      " #   Column        Non-Null Count   Dtype  \n",
      "---  ------        --------------   -----  \n",
      " 0   Store         421570 non-null  int64  \n",
      " 1   Dept          421570 non-null  int64  \n",
      " 2   Date          421570 non-null  object \n",
      " 3   Weekly_Sales  421570 non-null  float64\n",
      " 4   IsHoliday     421570 non-null  bool   \n",
      " 5   Temperature   421570 non-null  float64\n",
      " 6   Fuel_Price    421570 non-null  float64\n",
      " 7   MarkDown1     150681 non-null  float64\n",
      " 8   MarkDown2     111248 non-null  float64\n",
      " 9   MarkDown3     137091 non-null  float64\n",
      " 10  MarkDown4     134967 non-null  float64\n",
      " 11  MarkDown5     151432 non-null  float64\n",
      " 12  CPI           421570 non-null  float64\n",
      " 13  Unemployment  421570 non-null  float64\n",
      " 14  Type          421570 non-null  object \n",
      " 15  Size          421570 non-null  int64  \n",
      "dtypes: bool(1), float64(10), int64(3), object(2)\n",
      "memory usage: 51.9+ MB\n"
     ]
    }
   ],
   "source": [
    "train_data.info()"
   ]
  },
  {
   "cell_type": "code",
   "execution_count": 27,
   "metadata": {},
   "outputs": [
    {
     "name": "stdout",
     "output_type": "stream",
     "text": [
      "<class 'pandas.core.frame.DataFrame'>\n",
      "Int64Index: 115064 entries, 0 to 115063\n",
      "Data columns (total 15 columns):\n",
      " #   Column        Non-Null Count   Dtype  \n",
      "---  ------        --------------   -----  \n",
      " 0   Store         115064 non-null  int64  \n",
      " 1   Dept          115064 non-null  int64  \n",
      " 2   Date          115064 non-null  object \n",
      " 3   IsHoliday     115064 non-null  bool   \n",
      " 4   Temperature   115064 non-null  float64\n",
      " 5   Fuel_Price    115064 non-null  float64\n",
      " 6   MarkDown1     114915 non-null  float64\n",
      " 7   MarkDown2     86437 non-null   float64\n",
      " 8   MarkDown3     105235 non-null  float64\n",
      " 9   MarkDown4     102176 non-null  float64\n",
      " 10  MarkDown5     115064 non-null  float64\n",
      " 11  CPI           76902 non-null   float64\n",
      " 12  Unemployment  76902 non-null   float64\n",
      " 13  Type          115064 non-null  object \n",
      " 14  Size          115064 non-null  int64  \n",
      "dtypes: bool(1), float64(9), int64(3), object(2)\n",
      "memory usage: 13.3+ MB\n"
     ]
    }
   ],
   "source": [
    "test_data.info()"
   ]
  },
  {
   "cell_type": "code",
   "execution_count": 28,
   "metadata": {},
   "outputs": [],
   "source": [
    "#Data type converstion (Converting Date column to DateTime type)\n",
    "train_data['Date'] = pd.to_datetime(train_data['Date'], format = '%Y-%m-%d')\n",
    "test_data['Date'] = pd.to_datetime(test_data['Date'], format = '%Y-%m-%d')"
   ]
  },
  {
   "cell_type": "code",
   "execution_count": 29,
   "metadata": {},
   "outputs": [],
   "source": [
    "#Extracting Date Features\n",
    "train_data['Year'] = train_data['Date'].dt.year\n",
    "train_data['Month'] = train_data['Date'].dt.month\n",
    "\n",
    "\n",
    "test_data['Year'] = test_data['Date'].dt.year\n",
    "test_data['Month'] = test_data['Date'].dt.month\n"
   ]
  },
  {
   "cell_type": "code",
   "execution_count": 30,
   "metadata": {},
   "outputs": [],
   "source": [
    "train_data['Week'] = train_data['Date'].dt.week\n",
    "train_data['Day'] = train_data['Date'].dt.day\n",
    "\n",
    "\n",
    "test_data['Week'] = test_data['Date'].dt.week\n",
    "test_data['Day'] = test_data['Date'].dt.day"
   ]
  },
  {
   "cell_type": "markdown",
   "metadata": {},
   "source": [
    "# EDA"
   ]
  },
  {
   "cell_type": "code",
   "execution_count": 31,
   "metadata": {},
   "outputs": [
    {
     "data": {
      "image/png": "[encoded data removed]",
      "text/plain": [
       "<Figure size 864x1728 with 4 Axes>"
      ]
     },
     "metadata": {
      "needs_background": "light"
     },
     "output_type": "display_data"
    }
   ],
   "source": [
    "#Visualizing Weekly Sales across different categorical features\n",
    "plt_cols = ['Store', 'Dept', 'IsHoliday', 'Type']\n",
    "\n",
    "plt.figure(figsize = (12,24))\n",
    "for i, col in enumerate(plt_cols):\n",
    "    plt.subplot(4, 1, i+1)\n",
    "    plt.subplots_adjust(hspace = 1, wspace = .5)\n",
    "    sns.barplot(x = train_data[col], y = train_data.Weekly_Sales)\n",
    "    plt.xticks(rotation = 90)\n",
    "    plt.tight_layout()"
   ]
  },
  {
   "cell_type": "markdown",
   "metadata": {},
   "source": [
    "#### Analysing the Graph\n",
    "> - If we analyse the weekly sales according to the store, Store 20 is showing highest weekly sales.\n",
    "> - According to the Depatment wise sales, deparment 92 has the highest weekly sale.\n",
    "> - During the holidays the sales are high.\n",
    "> - Store Type A has the highest weekly sales."
   ]
  },
  {
   "cell_type": "code",
   "execution_count": 32,
   "metadata": {},
   "outputs": [
    {
     "data": {
      "image/png": "[encoded data removed]",
      "text/plain": [
       "<Figure size 864x1152 with 9 Axes>"
      ]
     },
     "metadata": {
      "needs_background": "light"
     },
     "output_type": "display_data"
    }
   ],
   "source": [
    "#Visualizing Weekly Sales across different continuous features\n",
    "plt_cols = ['Temperature','Fuel_Price','MarkDown1','MarkDown2','MarkDown3',\n",
    "            'MarkDown4','MarkDown5','CPI','Unemployment']\n",
    "\n",
    "plt.figure(figsize = (12,16))\n",
    "for i, col in enumerate(plt_cols):\n",
    "    plt.subplot(5, 2, i+1)\n",
    "    plt.subplots_adjust(hspace = 1, wspace = .5)\n",
    "    sns.scatterplot(x = train_data[col], y = train_data.Weekly_Sales)\n",
    "    plt.tight_layout() "
   ]
  },
  {
   "cell_type": "code",
   "execution_count": 33,
   "metadata": {},
   "outputs": [
    {
     "data": {
      "image/png": "[encoded data removed]",
      "text/plain": [
       "<Figure size 864x432 with 4 Axes>"
      ]
     },
     "metadata": {
      "needs_background": "light"
     },
     "output_type": "display_data"
    }
   ],
   "source": [
    "#Visualizing Weekly Sales across different date features\n",
    "plt_cols = ['Year', 'Month','Week', 'Day']\n",
    "\n",
    "plt.figure(figsize = (12,6))\n",
    "for i, col in enumerate(plt_cols):\n",
    "    plt.subplot(2, 2, i+1)\n",
    "    plt.subplots_adjust(hspace = 1, wspace = .5)\n",
    "    sns.barplot(x = train_data[col], y = train_data.Weekly_Sales)\n",
    "    plt.xticks(rotation = 90)\n",
    "    plt.tight_layout() "
   ]
  },
  {
   "cell_type": "markdown",
   "metadata": {},
   "source": [
    "#### Observation:\n",
    "> - In Year 2010, the weekly sales was high\n",
    "> - During  the month of november and december, the weekly sales has increaseed.\n",
    "> - weekly sale is high in week 47 and 50.\n"
   ]
  },
  {
   "cell_type": "markdown",
   "metadata": {},
   "source": [
    "# Getting the Summaries"
   ]
  },
  {
   "cell_type": "code",
   "execution_count": 34,
   "metadata": {},
   "outputs": [],
   "source": [
    "#Getting Categorical and continuous variables\n",
    "cat_cols = ['Store','Dept','IsHoliday','Type','Year','Month','Week','Day']\n",
    "cont_cols = ['Weekly_Sales','Temperature','Fuel_Price','CPI','Unemployment','Size','MarkDown1','MarkDown2','MarkDown3',\n",
    "             'MarkDown4','MarkDown5']"
   ]
  },
  {
   "cell_type": "code",
   "execution_count": 35,
   "metadata": {},
   "outputs": [
    {
     "data": {
      "text/html": [
       "<div>\n",
       "<style scoped>\n",
       "    .dataframe tbody tr th:only-of-type {\n",
       "        vertical-align: middle;\n",
       "    }\n",
       "\n",
       "    .dataframe tbody tr th {\n",
       "        vertical-align: top;\n",
       "    }\n",
       "\n",
       "    .dataframe thead th {\n",
       "        text-align: right;\n",
       "    }\n",
       "</style>\n",
       "<table border=\"1\" class=\"dataframe\">\n",
       "  <thead>\n",
       "    <tr style=\"text-align: right;\">\n",
       "      <th></th>\n",
       "      <th>Store</th>\n",
       "      <th>Dept</th>\n",
       "      <th>IsHoliday</th>\n",
       "      <th>Type</th>\n",
       "      <th>Year</th>\n",
       "      <th>Month</th>\n",
       "      <th>Week</th>\n",
       "      <th>Day</th>\n",
       "    </tr>\n",
       "  </thead>\n",
       "  <tbody>\n",
       "    <tr>\n",
       "      <th>COUNT</th>\n",
       "      <td>421570.00</td>\n",
       "      <td>421570.00</td>\n",
       "      <td>421570</td>\n",
       "      <td>421570</td>\n",
       "      <td>421570.0</td>\n",
       "      <td>421570.0</td>\n",
       "      <td>421570.00</td>\n",
       "      <td>421570.00</td>\n",
       "    </tr>\n",
       "    <tr>\n",
       "      <th>MISS</th>\n",
       "      <td>0.00</td>\n",
       "      <td>0.00</td>\n",
       "      <td>0</td>\n",
       "      <td>0</td>\n",
       "      <td>0.0</td>\n",
       "      <td>0.0</td>\n",
       "      <td>0.00</td>\n",
       "      <td>0.00</td>\n",
       "    </tr>\n",
       "    <tr>\n",
       "      <th>UNIQUE</th>\n",
       "      <td>45.00</td>\n",
       "      <td>81.00</td>\n",
       "      <td>2</td>\n",
       "      <td>3</td>\n",
       "      <td>3.0</td>\n",
       "      <td>12.0</td>\n",
       "      <td>52.00</td>\n",
       "      <td>31.00</td>\n",
       "    </tr>\n",
       "    <tr>\n",
       "      <th>MODE</th>\n",
       "      <td>13.00</td>\n",
       "      <td>1.00</td>\n",
       "      <td>False</td>\n",
       "      <td>A</td>\n",
       "      <td>2011.0</td>\n",
       "      <td>4.0</td>\n",
       "      <td>7.00</td>\n",
       "      <td>23.00</td>\n",
       "    </tr>\n",
       "    <tr>\n",
       "      <th>FREQ</th>\n",
       "      <td>10474.00</td>\n",
       "      <td>6435.00</td>\n",
       "      <td>391909</td>\n",
       "      <td>215478</td>\n",
       "      <td>153453.0</td>\n",
       "      <td>41332.0</td>\n",
       "      <td>8929.00</td>\n",
       "      <td>14801.00</td>\n",
       "    </tr>\n",
       "    <tr>\n",
       "      <th>PERCENT</th>\n",
       "      <td>2.48</td>\n",
       "      <td>1.53</td>\n",
       "      <td>92.96</td>\n",
       "      <td>51.11</td>\n",
       "      <td>36.4</td>\n",
       "      <td>9.8</td>\n",
       "      <td>2.12</td>\n",
       "      <td>3.51</td>\n",
       "    </tr>\n",
       "  </tbody>\n",
       "</table>\n",
       "</div>"
      ],
      "text/plain": [
       "             Store       Dept IsHoliday    Type      Year     Month  \\\n",
       "COUNT    421570.00  421570.00    421570  421570  421570.0  421570.0   \n",
       "MISS          0.00       0.00         0       0       0.0       0.0   \n",
       "UNIQUE       45.00      81.00         2       3       3.0      12.0   \n",
       "MODE         13.00       1.00     False       A    2011.0       4.0   \n",
       "FREQ      10474.00    6435.00    391909  215478  153453.0   41332.0   \n",
       "PERCENT       2.48       1.53     92.96   51.11      36.4       9.8   \n",
       "\n",
       "              Week        Day  \n",
       "COUNT    421570.00  421570.00  \n",
       "MISS          0.00       0.00  \n",
       "UNIQUE       52.00      31.00  \n",
       "MODE          7.00      23.00  \n",
       "FREQ       8929.00   14801.00  \n",
       "PERCENT       2.12       3.51  "
      ]
     },
     "execution_count": 35,
     "metadata": {},
     "output_type": "execute_result"
    }
   ],
   "source": [
    "#Summary of train Categorical Variables\n",
    "cat_sum_train = train_data[cat_cols].apply(categorical_var_summary)\n",
    "cat_sum_train.to_excel(output, 'Train Statistical Summary', startrow = 3)\n",
    "cat_sum_train"
   ]
  },
  {
   "cell_type": "code",
   "execution_count": 36,
   "metadata": {},
   "outputs": [
    {
     "data": {
      "text/html": [
       "<div>\n",
       "<style scoped>\n",
       "    .dataframe tbody tr th:only-of-type {\n",
       "        vertical-align: middle;\n",
       "    }\n",
       "\n",
       "    .dataframe tbody tr th {\n",
       "        vertical-align: top;\n",
       "    }\n",
       "\n",
       "    .dataframe thead th {\n",
       "        text-align: right;\n",
       "    }\n",
       "</style>\n",
       "<table border=\"1\" class=\"dataframe\">\n",
       "  <thead>\n",
       "    <tr style=\"text-align: right;\">\n",
       "      <th></th>\n",
       "      <th>Weekly_Sales</th>\n",
       "      <th>Temperature</th>\n",
       "      <th>Fuel_Price</th>\n",
       "      <th>CPI</th>\n",
       "      <th>Unemployment</th>\n",
       "      <th>Size</th>\n",
       "      <th>MarkDown1</th>\n",
       "      <th>MarkDown2</th>\n",
       "      <th>MarkDown3</th>\n",
       "      <th>MarkDown4</th>\n",
       "      <th>MarkDown5</th>\n",
       "    </tr>\n",
       "  </thead>\n",
       "  <tbody>\n",
       "    <tr>\n",
       "      <th>Count</th>\n",
       "      <td>4.215700e+05</td>\n",
       "      <td>4.215700e+05</td>\n",
       "      <td>4.215700e+05</td>\n",
       "      <td>4.215700e+05</td>\n",
       "      <td>4.215700e+05</td>\n",
       "      <td>4.215700e+05</td>\n",
       "      <td>1.506810e+05</td>\n",
       "      <td>1.112480e+05</td>\n",
       "      <td>1.370910e+05</td>\n",
       "      <td>1.349670e+05</td>\n",
       "      <td>1.514320e+05</td>\n",
       "    </tr>\n",
       "    <tr>\n",
       "      <th>Unique</th>\n",
       "      <td>3.594640e+05</td>\n",
       "      <td>3.528000e+03</td>\n",
       "      <td>8.920000e+02</td>\n",
       "      <td>2.145000e+03</td>\n",
       "      <td>3.490000e+02</td>\n",
       "      <td>4.000000e+01</td>\n",
       "      <td>2.277000e+03</td>\n",
       "      <td>1.499000e+03</td>\n",
       "      <td>1.662000e+03</td>\n",
       "      <td>1.944000e+03</td>\n",
       "      <td>2.293000e+03</td>\n",
       "    </tr>\n",
       "    <tr>\n",
       "      <th>NMISS</th>\n",
       "      <td>0.000000e+00</td>\n",
       "      <td>0.000000e+00</td>\n",
       "      <td>0.000000e+00</td>\n",
       "      <td>0.000000e+00</td>\n",
       "      <td>0.000000e+00</td>\n",
       "      <td>0.000000e+00</td>\n",
       "      <td>2.708890e+05</td>\n",
       "      <td>3.103220e+05</td>\n",
       "      <td>2.844790e+05</td>\n",
       "      <td>2.866030e+05</td>\n",
       "      <td>2.701380e+05</td>\n",
       "    </tr>\n",
       "    <tr>\n",
       "      <th>SUM</th>\n",
       "      <td>6.737219e+09</td>\n",
       "      <td>2.533217e+07</td>\n",
       "      <td>1.416908e+06</td>\n",
       "      <td>7.217360e+07</td>\n",
       "      <td>3.355819e+06</td>\n",
       "      <td>5.764039e+10</td>\n",
       "      <td>1.091898e+09</td>\n",
       "      <td>3.709708e+08</td>\n",
       "      <td>1.973317e+08</td>\n",
       "      <td>4.566161e+08</td>\n",
       "      <td>7.009750e+08</td>\n",
       "    </tr>\n",
       "    <tr>\n",
       "      <th>MEAN</th>\n",
       "      <td>1.598126e+04</td>\n",
       "      <td>6.009006e+01</td>\n",
       "      <td>3.361027e+00</td>\n",
       "      <td>1.712019e+02</td>\n",
       "      <td>7.960289e+00</td>\n",
       "      <td>1.367279e+05</td>\n",
       "      <td>7.246420e+03</td>\n",
       "      <td>3.334629e+03</td>\n",
       "      <td>1.439421e+03</td>\n",
       "      <td>3.383168e+03</td>\n",
       "      <td>4.628975e+03</td>\n",
       "    </tr>\n",
       "    <tr>\n",
       "      <th>MEDIAN</th>\n",
       "      <td>7.612030e+03</td>\n",
       "      <td>6.209000e+01</td>\n",
       "      <td>3.452000e+00</td>\n",
       "      <td>1.823188e+02</td>\n",
       "      <td>7.866000e+00</td>\n",
       "      <td>1.401670e+05</td>\n",
       "      <td>5.347450e+03</td>\n",
       "      <td>1.920000e+02</td>\n",
       "      <td>2.460000e+01</td>\n",
       "      <td>1.481310e+03</td>\n",
       "      <td>3.359450e+03</td>\n",
       "    </tr>\n",
       "    <tr>\n",
       "      <th>STD</th>\n",
       "      <td>2.271118e+04</td>\n",
       "      <td>1.844793e+01</td>\n",
       "      <td>4.585145e-01</td>\n",
       "      <td>3.915928e+01</td>\n",
       "      <td>1.863296e+00</td>\n",
       "      <td>6.098058e+04</td>\n",
       "      <td>8.291221e+03</td>\n",
       "      <td>9.475357e+03</td>\n",
       "      <td>9.623078e+03</td>\n",
       "      <td>6.292384e+03</td>\n",
       "      <td>5.962887e+03</td>\n",
       "    </tr>\n",
       "    <tr>\n",
       "      <th>VAR</th>\n",
       "      <td>5.157979e+08</td>\n",
       "      <td>3.403262e+02</td>\n",
       "      <td>2.102356e-01</td>\n",
       "      <td>1.533449e+03</td>\n",
       "      <td>3.471872e+00</td>\n",
       "      <td>3.718632e+09</td>\n",
       "      <td>6.874435e+07</td>\n",
       "      <td>8.978240e+07</td>\n",
       "      <td>9.260364e+07</td>\n",
       "      <td>3.959410e+07</td>\n",
       "      <td>3.555603e+07</td>\n",
       "    </tr>\n",
       "    <tr>\n",
       "      <th>MIN</th>\n",
       "      <td>-4.988940e+03</td>\n",
       "      <td>-2.060000e+00</td>\n",
       "      <td>2.472000e+00</td>\n",
       "      <td>1.260640e+02</td>\n",
       "      <td>3.879000e+00</td>\n",
       "      <td>3.487500e+04</td>\n",
       "      <td>2.700000e-01</td>\n",
       "      <td>-2.657600e+02</td>\n",
       "      <td>-2.910000e+01</td>\n",
       "      <td>2.200000e-01</td>\n",
       "      <td>1.351600e+02</td>\n",
       "    </tr>\n",
       "    <tr>\n",
       "      <th>P1</th>\n",
       "      <td>5.000000e+00</td>\n",
       "      <td>1.830000e+01</td>\n",
       "      <td>2.565000e+00</td>\n",
       "      <td>1.261119e+02</td>\n",
       "      <td>4.156000e+00</td>\n",
       "      <td>3.487500e+04</td>\n",
       "      <td>1.776000e+01</td>\n",
       "      <td>-9.900000e-01</td>\n",
       "      <td>6.000000e-02</td>\n",
       "      <td>3.970000e+00</td>\n",
       "      <td>3.519700e+02</td>\n",
       "    </tr>\n",
       "    <tr>\n",
       "      <th>P50</th>\n",
       "      <td>7.612030e+03</td>\n",
       "      <td>6.209000e+01</td>\n",
       "      <td>3.452000e+00</td>\n",
       "      <td>1.823188e+02</td>\n",
       "      <td>7.866000e+00</td>\n",
       "      <td>1.401670e+05</td>\n",
       "      <td>5.347450e+03</td>\n",
       "      <td>1.920000e+02</td>\n",
       "      <td>2.460000e+01</td>\n",
       "      <td>1.481310e+03</td>\n",
       "      <td>3.359450e+03</td>\n",
       "    </tr>\n",
       "    <tr>\n",
       "      <th>P99</th>\n",
       "      <td>1.064796e+05</td>\n",
       "      <td>9.281000e+01</td>\n",
       "      <td>4.202000e+00</td>\n",
       "      <td>2.254735e+02</td>\n",
       "      <td>1.418000e+01</td>\n",
       "      <td>2.196220e+05</td>\n",
       "      <td>4.152403e+04</td>\n",
       "      <td>5.036660e+04</td>\n",
       "      <td>6.314329e+04</td>\n",
       "      <td>3.578526e+04</td>\n",
       "      <td>2.775423e+04</td>\n",
       "    </tr>\n",
       "    <tr>\n",
       "      <th>MAX</th>\n",
       "      <td>6.930994e+05</td>\n",
       "      <td>1.001400e+02</td>\n",
       "      <td>4.468000e+00</td>\n",
       "      <td>2.272328e+02</td>\n",
       "      <td>1.431300e+01</td>\n",
       "      <td>2.196220e+05</td>\n",
       "      <td>8.864676e+04</td>\n",
       "      <td>1.045195e+05</td>\n",
       "      <td>1.416306e+05</td>\n",
       "      <td>6.747485e+04</td>\n",
       "      <td>1.085193e+05</td>\n",
       "    </tr>\n",
       "  </tbody>\n",
       "</table>\n",
       "</div>"
      ],
      "text/plain": [
       "        Weekly_Sales   Temperature    Fuel_Price           CPI  Unemployment  \\\n",
       "Count   4.215700e+05  4.215700e+05  4.215700e+05  4.215700e+05  4.215700e+05   \n",
       "Unique  3.594640e+05  3.528000e+03  8.920000e+02  2.145000e+03  3.490000e+02   \n",
       "NMISS   0.000000e+00  0.000000e+00  0.000000e+00  0.000000e+00  0.000000e+00   \n",
       "SUM     6.737219e+09  2.533217e+07  1.416908e+06  7.217360e+07  3.355819e+06   \n",
       "MEAN    1.598126e+04  6.009006e+01  3.361027e+00  1.712019e+02  7.960289e+00   \n",
       "MEDIAN  7.612030e+03  6.209000e+01  3.452000e+00  1.823188e+02  7.866000e+00   \n",
       "STD     2.271118e+04  1.844793e+01  4.585145e-01  3.915928e+01  1.863296e+00   \n",
       "VAR     5.157979e+08  3.403262e+02  2.102356e-01  1.533449e+03  3.471872e+00   \n",
       "MIN    -4.988940e+03 -2.060000e+00  2.472000e+00  1.260640e+02  3.879000e+00   \n",
       "P1      5.000000e+00  1.830000e+01  2.565000e+00  1.261119e+02  4.156000e+00   \n",
       "P50     7.612030e+03  6.209000e+01  3.452000e+00  1.823188e+02  7.866000e+00   \n",
       "P99     1.064796e+05  9.281000e+01  4.202000e+00  2.254735e+02  1.418000e+01   \n",
       "MAX     6.930994e+05  1.001400e+02  4.468000e+00  2.272328e+02  1.431300e+01   \n",
       "\n",
       "                Size     MarkDown1     MarkDown2     MarkDown3     MarkDown4  \\\n",
       "Count   4.215700e+05  1.506810e+05  1.112480e+05  1.370910e+05  1.349670e+05   \n",
       "Unique  4.000000e+01  2.277000e+03  1.499000e+03  1.662000e+03  1.944000e+03   \n",
       "NMISS   0.000000e+00  2.708890e+05  3.103220e+05  2.844790e+05  2.866030e+05   \n",
       "SUM     5.764039e+10  1.091898e+09  3.709708e+08  1.973317e+08  4.566161e+08   \n",
       "MEAN    1.367279e+05  7.246420e+03  3.334629e+03  1.439421e+03  3.383168e+03   \n",
       "MEDIAN  1.401670e+05  5.347450e+03  1.920000e+02  2.460000e+01  1.481310e+03   \n",
       "STD     6.098058e+04  8.291221e+03  9.475357e+03  9.623078e+03  6.292384e+03   \n",
       "VAR     3.718632e+09  6.874435e+07  8.978240e+07  9.260364e+07  3.959410e+07   \n",
       "MIN     3.487500e+04  2.700000e-01 -2.657600e+02 -2.910000e+01  2.200000e-01   \n",
       "P1      3.487500e+04  1.776000e+01 -9.900000e-01  6.000000e-02  3.970000e+00   \n",
       "P50     1.401670e+05  5.347450e+03  1.920000e+02  2.460000e+01  1.481310e+03   \n",
       "P99     2.196220e+05  4.152403e+04  5.036660e+04  6.314329e+04  3.578526e+04   \n",
       "MAX     2.196220e+05  8.864676e+04  1.045195e+05  1.416306e+05  6.747485e+04   \n",
       "\n",
       "           MarkDown5  \n",
       "Count   1.514320e+05  \n",
       "Unique  2.293000e+03  \n",
       "NMISS   2.701380e+05  \n",
       "SUM     7.009750e+08  \n",
       "MEAN    4.628975e+03  \n",
       "MEDIAN  3.359450e+03  \n",
       "STD     5.962887e+03  \n",
       "VAR     3.555603e+07  \n",
       "MIN     1.351600e+02  \n",
       "P1      3.519700e+02  \n",
       "P50     3.359450e+03  \n",
       "P99     2.775423e+04  \n",
       "MAX     1.085193e+05  "
      ]
     },
     "execution_count": 36,
     "metadata": {},
     "output_type": "execute_result"
    }
   ],
   "source": [
    "#Summary of train Continuous Variables\n",
    "cont_sum_train = train_data[cont_cols].apply(continuous_var_summary)\n",
    "cont_sum_train.to_excel(output, 'Train Statistical Summary', startrow = 13)\n",
    "cont_sum_train"
   ]
  },
  {
   "cell_type": "code",
   "execution_count": 37,
   "metadata": {},
   "outputs": [
    {
     "data": {
      "text/html": [
       "<div>\n",
       "<style scoped>\n",
       "    .dataframe tbody tr th:only-of-type {\n",
       "        vertical-align: middle;\n",
       "    }\n",
       "\n",
       "    .dataframe tbody tr th {\n",
       "        vertical-align: top;\n",
       "    }\n",
       "\n",
       "    .dataframe thead th {\n",
       "        text-align: right;\n",
       "    }\n",
       "</style>\n",
       "<table border=\"1\" class=\"dataframe\">\n",
       "  <thead>\n",
       "    <tr style=\"text-align: right;\">\n",
       "      <th></th>\n",
       "      <th>Store</th>\n",
       "      <th>Dept</th>\n",
       "      <th>IsHoliday</th>\n",
       "      <th>Type</th>\n",
       "      <th>Year</th>\n",
       "      <th>Month</th>\n",
       "      <th>Week</th>\n",
       "      <th>Day</th>\n",
       "    </tr>\n",
       "  </thead>\n",
       "  <tbody>\n",
       "    <tr>\n",
       "      <th>COUNT</th>\n",
       "      <td>115064.00</td>\n",
       "      <td>115064.00</td>\n",
       "      <td>115064</td>\n",
       "      <td>115064</td>\n",
       "      <td>115064.00</td>\n",
       "      <td>115064.00</td>\n",
       "      <td>115064.00</td>\n",
       "      <td>115064.00</td>\n",
       "    </tr>\n",
       "    <tr>\n",
       "      <th>MISS</th>\n",
       "      <td>0.00</td>\n",
       "      <td>0.00</td>\n",
       "      <td>0</td>\n",
       "      <td>0</td>\n",
       "      <td>0.00</td>\n",
       "      <td>0.00</td>\n",
       "      <td>0.00</td>\n",
       "      <td>0.00</td>\n",
       "    </tr>\n",
       "    <tr>\n",
       "      <th>UNIQUE</th>\n",
       "      <td>45.00</td>\n",
       "      <td>81.00</td>\n",
       "      <td>2</td>\n",
       "      <td>3</td>\n",
       "      <td>2.00</td>\n",
       "      <td>9.00</td>\n",
       "      <td>39.00</td>\n",
       "      <td>27.00</td>\n",
       "    </tr>\n",
       "    <tr>\n",
       "      <th>MODE</th>\n",
       "      <td>13.00</td>\n",
       "      <td>1.00</td>\n",
       "      <td>False</td>\n",
       "      <td>A</td>\n",
       "      <td>2013.00</td>\n",
       "      <td>11.00</td>\n",
       "      <td>51.00</td>\n",
       "      <td>7.00</td>\n",
       "    </tr>\n",
       "    <tr>\n",
       "      <th>FREQ</th>\n",
       "      <td>2836.00</td>\n",
       "      <td>1755.00</td>\n",
       "      <td>106136</td>\n",
       "      <td>58713</td>\n",
       "      <td>88275.00</td>\n",
       "      <td>14824.00</td>\n",
       "      <td>3002.00</td>\n",
       "      <td>5926.00</td>\n",
       "    </tr>\n",
       "    <tr>\n",
       "      <th>PERCENT</th>\n",
       "      <td>2.46</td>\n",
       "      <td>1.53</td>\n",
       "      <td>92.24</td>\n",
       "      <td>51.03</td>\n",
       "      <td>76.72</td>\n",
       "      <td>12.88</td>\n",
       "      <td>2.61</td>\n",
       "      <td>5.15</td>\n",
       "    </tr>\n",
       "  </tbody>\n",
       "</table>\n",
       "</div>"
      ],
      "text/plain": [
       "             Store       Dept IsHoliday    Type       Year      Month  \\\n",
       "COUNT    115064.00  115064.00    115064  115064  115064.00  115064.00   \n",
       "MISS          0.00       0.00         0       0       0.00       0.00   \n",
       "UNIQUE       45.00      81.00         2       3       2.00       9.00   \n",
       "MODE         13.00       1.00     False       A    2013.00      11.00   \n",
       "FREQ       2836.00    1755.00    106136   58713   88275.00   14824.00   \n",
       "PERCENT       2.46       1.53     92.24   51.03      76.72      12.88   \n",
       "\n",
       "              Week        Day  \n",
       "COUNT    115064.00  115064.00  \n",
       "MISS          0.00       0.00  \n",
       "UNIQUE       39.00      27.00  \n",
       "MODE         51.00       7.00  \n",
       "FREQ       3002.00    5926.00  \n",
       "PERCENT       2.61       5.15  "
      ]
     },
     "execution_count": 37,
     "metadata": {},
     "output_type": "execute_result"
    }
   ],
   "source": [
    "#Summary of test Categorical Variables\n",
    "cat_summ_test = test_data[cat_cols].apply(categorical_var_summary)\n",
    "cat_summ_test.to_excel(output, 'Test Statistical Summary', startrow = 3)\n",
    "cat_summ_test"
   ]
  },
  {
   "cell_type": "code",
   "execution_count": 38,
   "metadata": {},
   "outputs": [
    {
     "data": {
      "text/html": [
       "<div>\n",
       "<style scoped>\n",
       "    .dataframe tbody tr th:only-of-type {\n",
       "        vertical-align: middle;\n",
       "    }\n",
       "\n",
       "    .dataframe tbody tr th {\n",
       "        vertical-align: top;\n",
       "    }\n",
       "\n",
       "    .dataframe thead th {\n",
       "        text-align: right;\n",
       "    }\n",
       "</style>\n",
       "<table border=\"1\" class=\"dataframe\">\n",
       "  <thead>\n",
       "    <tr style=\"text-align: right;\">\n",
       "      <th></th>\n",
       "      <th>Temperature</th>\n",
       "      <th>Fuel_Price</th>\n",
       "      <th>CPI</th>\n",
       "      <th>Unemployment</th>\n",
       "      <th>Size</th>\n",
       "      <th>MarkDown1</th>\n",
       "      <th>MarkDown2</th>\n",
       "      <th>MarkDown3</th>\n",
       "      <th>MarkDown4</th>\n",
       "      <th>MarkDown5</th>\n",
       "    </tr>\n",
       "  </thead>\n",
       "  <tbody>\n",
       "    <tr>\n",
       "      <th>Count</th>\n",
       "      <td>1.150640e+05</td>\n",
       "      <td>115064.000000</td>\n",
       "      <td>7.690200e+04</td>\n",
       "      <td>76902.000000</td>\n",
       "      <td>1.150640e+05</td>\n",
       "      <td>1.149150e+05</td>\n",
       "      <td>8.643700e+04</td>\n",
       "      <td>1.052350e+05</td>\n",
       "      <td>1.021760e+05</td>\n",
       "      <td>1.150640e+05</td>\n",
       "    </tr>\n",
       "    <tr>\n",
       "      <th>Unique</th>\n",
       "      <td>1.236000e+03</td>\n",
       "      <td>297.000000</td>\n",
       "      <td>3.600000e+02</td>\n",
       "      <td>89.000000</td>\n",
       "      <td>4.000000e+01</td>\n",
       "      <td>1.752000e+03</td>\n",
       "      <td>1.257000e+03</td>\n",
       "      <td>1.421000e+03</td>\n",
       "      <td>1.483000e+03</td>\n",
       "      <td>1.754000e+03</td>\n",
       "    </tr>\n",
       "    <tr>\n",
       "      <th>NMISS</th>\n",
       "      <td>0.000000e+00</td>\n",
       "      <td>0.000000</td>\n",
       "      <td>3.816200e+04</td>\n",
       "      <td>38162.000000</td>\n",
       "      <td>0.000000e+00</td>\n",
       "      <td>1.490000e+02</td>\n",
       "      <td>2.862700e+04</td>\n",
       "      <td>9.829000e+03</td>\n",
       "      <td>1.288800e+04</td>\n",
       "      <td>0.000000e+00</td>\n",
       "    </tr>\n",
       "    <tr>\n",
       "      <th>SUM</th>\n",
       "      <td>6.206760e+06</td>\n",
       "      <td>412107.046000</td>\n",
       "      <td>1.360868e+07</td>\n",
       "      <td>528219.318000</td>\n",
       "      <td>1.570597e+10</td>\n",
       "      <td>8.836063e+08</td>\n",
       "      <td>3.227602e+08</td>\n",
       "      <td>2.528890e+08</td>\n",
       "      <td>3.429250e+08</td>\n",
       "      <td>4.513594e+08</td>\n",
       "    </tr>\n",
       "    <tr>\n",
       "      <th>MEAN</th>\n",
       "      <td>5.394180e+01</td>\n",
       "      <td>3.581546</td>\n",
       "      <td>1.769613e+02</td>\n",
       "      <td>6.868733</td>\n",
       "      <td>1.364977e+05</td>\n",
       "      <td>7.689216e+03</td>\n",
       "      <td>3.734052e+03</td>\n",
       "      <td>2.403089e+03</td>\n",
       "      <td>3.356219e+03</td>\n",
       "      <td>3.922681e+03</td>\n",
       "    </tr>\n",
       "    <tr>\n",
       "      <th>MEDIAN</th>\n",
       "      <td>5.447000e+01</td>\n",
       "      <td>3.606000</td>\n",
       "      <td>1.923044e+02</td>\n",
       "      <td>6.806000</td>\n",
       "      <td>1.401670e+05</td>\n",
       "      <td>4.842290e+03</td>\n",
       "      <td>7.425900e+02</td>\n",
       "      <td>7.826000e+01</td>\n",
       "      <td>8.409400e+02</td>\n",
       "      <td>2.390430e+03</td>\n",
       "    </tr>\n",
       "    <tr>\n",
       "      <th>STD</th>\n",
       "      <td>1.872415e+01</td>\n",
       "      <td>0.239442</td>\n",
       "      <td>4.123997e+01</td>\n",
       "      <td>1.583427</td>\n",
       "      <td>6.110693e+04</td>\n",
       "      <td>1.069876e+04</td>\n",
       "      <td>8.323495e+03</td>\n",
       "      <td>1.376794e+04</td>\n",
       "      <td>7.570502e+03</td>\n",
       "      <td>1.944515e+04</td>\n",
       "    </tr>\n",
       "    <tr>\n",
       "      <th>VAR</th>\n",
       "      <td>3.505939e+02</td>\n",
       "      <td>0.057332</td>\n",
       "      <td>1.700735e+03</td>\n",
       "      <td>2.507242</td>\n",
       "      <td>3.734056e+09</td>\n",
       "      <td>1.144635e+08</td>\n",
       "      <td>6.928057e+07</td>\n",
       "      <td>1.895562e+08</td>\n",
       "      <td>5.731249e+07</td>\n",
       "      <td>3.781139e+08</td>\n",
       "    </tr>\n",
       "    <tr>\n",
       "      <th>MIN</th>\n",
       "      <td>-7.290000e+00</td>\n",
       "      <td>2.872000</td>\n",
       "      <td>1.312362e+02</td>\n",
       "      <td>3.684000</td>\n",
       "      <td>3.487500e+04</td>\n",
       "      <td>-2.781450e+03</td>\n",
       "      <td>-3.574000e+01</td>\n",
       "      <td>-1.792600e+02</td>\n",
       "      <td>2.200000e-01</td>\n",
       "      <td>-1.851700e+02</td>\n",
       "    </tr>\n",
       "    <tr>\n",
       "      <th>P1</th>\n",
       "      <td>1.144000e+01</td>\n",
       "      <td>2.957000</td>\n",
       "      <td>1.312794e+02</td>\n",
       "      <td>3.879000</td>\n",
       "      <td>3.487500e+04</td>\n",
       "      <td>2.084000e+01</td>\n",
       "      <td>2.000000e-02</td>\n",
       "      <td>1.500000e-01</td>\n",
       "      <td>2.610000e+00</td>\n",
       "      <td>2.693000e+02</td>\n",
       "    </tr>\n",
       "    <tr>\n",
       "      <th>P50</th>\n",
       "      <td>5.447000e+01</td>\n",
       "      <td>3.606000</td>\n",
       "      <td>1.923044e+02</td>\n",
       "      <td>6.806000</td>\n",
       "      <td>1.401670e+05</td>\n",
       "      <td>4.842290e+03</td>\n",
       "      <td>7.425900e+02</td>\n",
       "      <td>7.826000e+01</td>\n",
       "      <td>8.409400e+02</td>\n",
       "      <td>2.390430e+03</td>\n",
       "    </tr>\n",
       "    <tr>\n",
       "      <th>P99</th>\n",
       "      <td>9.214000e+01</td>\n",
       "      <td>4.079000</td>\n",
       "      <td>2.287299e+02</td>\n",
       "      <td>10.199000</td>\n",
       "      <td>2.196220e+05</td>\n",
       "      <td>6.575757e+04</td>\n",
       "      <td>4.292021e+04</td>\n",
       "      <td>8.647666e+04</td>\n",
       "      <td>4.473928e+04</td>\n",
       "      <td>1.859930e+04</td>\n",
       "    </tr>\n",
       "    <tr>\n",
       "      <th>MAX</th>\n",
       "      <td>1.019500e+02</td>\n",
       "      <td>4.125000</td>\n",
       "      <td>2.289765e+02</td>\n",
       "      <td>10.199000</td>\n",
       "      <td>2.196220e+05</td>\n",
       "      <td>1.031850e+05</td>\n",
       "      <td>7.107417e+04</td>\n",
       "      <td>1.494833e+05</td>\n",
       "      <td>6.534464e+04</td>\n",
       "      <td>7.714481e+05</td>\n",
       "    </tr>\n",
       "  </tbody>\n",
       "</table>\n",
       "</div>"
      ],
      "text/plain": [
       "         Temperature     Fuel_Price           CPI   Unemployment  \\\n",
       "Count   1.150640e+05  115064.000000  7.690200e+04   76902.000000   \n",
       "Unique  1.236000e+03     297.000000  3.600000e+02      89.000000   \n",
       "NMISS   0.000000e+00       0.000000  3.816200e+04   38162.000000   \n",
       "SUM     6.206760e+06  412107.046000  1.360868e+07  528219.318000   \n",
       "MEAN    5.394180e+01       3.581546  1.769613e+02       6.868733   \n",
       "MEDIAN  5.447000e+01       3.606000  1.923044e+02       6.806000   \n",
       "STD     1.872415e+01       0.239442  4.123997e+01       1.583427   \n",
       "VAR     3.505939e+02       0.057332  1.700735e+03       2.507242   \n",
       "MIN    -7.290000e+00       2.872000  1.312362e+02       3.684000   \n",
       "P1      1.144000e+01       2.957000  1.312794e+02       3.879000   \n",
       "P50     5.447000e+01       3.606000  1.923044e+02       6.806000   \n",
       "P99     9.214000e+01       4.079000  2.287299e+02      10.199000   \n",
       "MAX     1.019500e+02       4.125000  2.289765e+02      10.199000   \n",
       "\n",
       "                Size     MarkDown1     MarkDown2     MarkDown3     MarkDown4  \\\n",
       "Count   1.150640e+05  1.149150e+05  8.643700e+04  1.052350e+05  1.021760e+05   \n",
       "Unique  4.000000e+01  1.752000e+03  1.257000e+03  1.421000e+03  1.483000e+03   \n",
       "NMISS   0.000000e+00  1.490000e+02  2.862700e+04  9.829000e+03  1.288800e+04   \n",
       "SUM     1.570597e+10  8.836063e+08  3.227602e+08  2.528890e+08  3.429250e+08   \n",
       "MEAN    1.364977e+05  7.689216e+03  3.734052e+03  2.403089e+03  3.356219e+03   \n",
       "MEDIAN  1.401670e+05  4.842290e+03  7.425900e+02  7.826000e+01  8.409400e+02   \n",
       "STD     6.110693e+04  1.069876e+04  8.323495e+03  1.376794e+04  7.570502e+03   \n",
       "VAR     3.734056e+09  1.144635e+08  6.928057e+07  1.895562e+08  5.731249e+07   \n",
       "MIN     3.487500e+04 -2.781450e+03 -3.574000e+01 -1.792600e+02  2.200000e-01   \n",
       "P1      3.487500e+04  2.084000e+01  2.000000e-02  1.500000e-01  2.610000e+00   \n",
       "P50     1.401670e+05  4.842290e+03  7.425900e+02  7.826000e+01  8.409400e+02   \n",
       "P99     2.196220e+05  6.575757e+04  4.292021e+04  8.647666e+04  4.473928e+04   \n",
       "MAX     2.196220e+05  1.031850e+05  7.107417e+04  1.494833e+05  6.534464e+04   \n",
       "\n",
       "           MarkDown5  \n",
       "Count   1.150640e+05  \n",
       "Unique  1.754000e+03  \n",
       "NMISS   0.000000e+00  \n",
       "SUM     4.513594e+08  \n",
       "MEAN    3.922681e+03  \n",
       "MEDIAN  2.390430e+03  \n",
       "STD     1.944515e+04  \n",
       "VAR     3.781139e+08  \n",
       "MIN    -1.851700e+02  \n",
       "P1      2.693000e+02  \n",
       "P50     2.390430e+03  \n",
       "P99     1.859930e+04  \n",
       "MAX     7.714481e+05  "
      ]
     },
     "execution_count": 38,
     "metadata": {},
     "output_type": "execute_result"
    }
   ],
   "source": [
    "#Summary of test Continuous Variables\n",
    "cont_summ_test = test_data[cont_cols[1:]].apply(continuous_var_summary)\n",
    "cont_summ_test.to_excel(output, 'Test Statistical Summary', startrow = 13)\n",
    "cont_summ_test"
   ]
  },
  {
   "cell_type": "markdown",
   "metadata": {},
   "source": [
    "# Data Preparation"
   ]
  },
  {
   "cell_type": "code",
   "execution_count": 39,
   "metadata": {},
   "outputs": [],
   "source": [
    "#Handling Outliers\n",
    "train_data[cont_cols] = train_data[cont_cols].apply(outlier_capping)\n",
    "\n",
    "#Saving to excel\n",
    "train_data[cont_cols].to_excel(output, 'Train Oulier Treatment')\n",
    "\n",
    "test_data[cont_cols[1:]] = test_data[cont_cols[1:]].apply(outlier_capping)\n",
    "\n",
    "#Saving to excel\n",
    "test_data[cont_cols[1:]].to_excel(output, 'Test Oulier Treatment')"
   ]
  },
  {
   "cell_type": "code",
   "execution_count": 40,
   "metadata": {},
   "outputs": [
    {
     "data": {
      "text/plain": [
       "Store                0\n",
       "Dept                 0\n",
       "Date                 0\n",
       "Weekly_Sales         0\n",
       "IsHoliday            0\n",
       "Temperature          0\n",
       "Fuel_Price           0\n",
       "MarkDown1       270889\n",
       "MarkDown2       310322\n",
       "MarkDown3       284479\n",
       "MarkDown4       286603\n",
       "MarkDown5       270138\n",
       "CPI                  0\n",
       "Unemployment         0\n",
       "Type                 0\n",
       "Size                 0\n",
       "Year                 0\n",
       "Month                0\n",
       "Week                 0\n",
       "Day                  0\n",
       "dtype: int64"
      ]
     },
     "execution_count": 40,
     "metadata": {},
     "output_type": "execute_result"
    }
   ],
   "source": [
    "#Missing Values in train dataset\n",
    "train_data.isna().sum()"
   ]
  },
  {
   "cell_type": "code",
   "execution_count": 41,
   "metadata": {},
   "outputs": [],
   "source": [
    "#Treating missing values in train dataset\n",
    "train_data = train_data.fillna(0)"
   ]
  },
  {
   "cell_type": "code",
   "execution_count": 42,
   "metadata": {},
   "outputs": [
    {
     "data": {
      "text/plain": [
       "Store               0\n",
       "Dept                0\n",
       "Date                0\n",
       "IsHoliday           0\n",
       "Temperature         0\n",
       "Fuel_Price          0\n",
       "MarkDown1         149\n",
       "MarkDown2       28627\n",
       "MarkDown3        9829\n",
       "MarkDown4       12888\n",
       "MarkDown5           0\n",
       "CPI             38162\n",
       "Unemployment    38162\n",
       "Type                0\n",
       "Size                0\n",
       "Year                0\n",
       "Month               0\n",
       "Week                0\n",
       "Day                 0\n",
       "dtype: int64"
      ]
     },
     "execution_count": 42,
     "metadata": {},
     "output_type": "execute_result"
    }
   ],
   "source": [
    "#Missing values in test dataset\n",
    "test_data.isna().sum()"
   ]
  },
  {
   "cell_type": "code",
   "execution_count": 43,
   "metadata": {},
   "outputs": [],
   "source": [
    "#Treating Missing values in CPI and Unemployment with mean by Department wise for test dataset\n",
    "test_data['CPI'] = test_data[['Store','Dept','CPI']].groupby(['Store','Dept'])['CPI'].transform(lambda x: x.interpolate())\n",
    "test_data['Unemployment'] = test_data[['Store','Dept','Unemployment']].groupby(['Store','Dept'])['Unemployment'].transform(lambda x: x.interpolate())"
   ]
  },
  {
   "cell_type": "code",
   "execution_count": 44,
   "metadata": {},
   "outputs": [],
   "source": [
    "#Imputing missing vaues in MarkDown with zeros for test dataset\n",
    "test_data = test_data.fillna(0)"
   ]
  },
  {
   "cell_type": "code",
   "execution_count": 45,
   "metadata": {},
   "outputs": [
    {
     "data": {
      "text/plain": [
       "Store           0\n",
       "Dept            0\n",
       "Date            0\n",
       "Weekly_Sales    0\n",
       "IsHoliday       0\n",
       "Temperature     0\n",
       "Fuel_Price      0\n",
       "MarkDown1       0\n",
       "MarkDown2       0\n",
       "MarkDown3       0\n",
       "MarkDown4       0\n",
       "MarkDown5       0\n",
       "CPI             0\n",
       "Unemployment    0\n",
       "Type            0\n",
       "Size            0\n",
       "Year            0\n",
       "Month           0\n",
       "Week            0\n",
       "Day             0\n",
       "dtype: int64"
      ]
     },
     "execution_count": 45,
     "metadata": {},
     "output_type": "execute_result"
    }
   ],
   "source": [
    "#Checking for missing values\n",
    "train_data.isna().sum()"
   ]
  },
  {
   "cell_type": "code",
   "execution_count": 46,
   "metadata": {},
   "outputs": [
    {
     "data": {
      "text/plain": [
       "Store           0\n",
       "Dept            0\n",
       "Date            0\n",
       "IsHoliday       0\n",
       "Temperature     0\n",
       "Fuel_Price      0\n",
       "MarkDown1       0\n",
       "MarkDown2       0\n",
       "MarkDown3       0\n",
       "MarkDown4       0\n",
       "MarkDown5       0\n",
       "CPI             0\n",
       "Unemployment    0\n",
       "Type            0\n",
       "Size            0\n",
       "Year            0\n",
       "Month           0\n",
       "Week            0\n",
       "Day             0\n",
       "dtype: int64"
      ]
     },
     "execution_count": 46,
     "metadata": {},
     "output_type": "execute_result"
    }
   ],
   "source": [
    "test_data.isna().sum()"
   ]
  },
  {
   "cell_type": "code",
   "execution_count": 47,
   "metadata": {},
   "outputs": [],
   "source": [
    "#Saving to excel\n",
    "train_data.to_excel(output, 'Train Missing Treatment')\n",
    "test_data.to_excel(output, 'Test Missing Treatment')"
   ]
  },
  {
   "cell_type": "code",
   "execution_count": 48,
   "metadata": {},
   "outputs": [],
   "source": [
    "#Changing categorical to numerical using Label Encoder\n",
    "le = LabelEncoder()\n",
    "\n",
    "train_data['IsHoliday'] = le.fit_transform(train_data.IsHoliday)\n",
    "train_data['Type'] = le.fit_transform(train_data.Type)\n",
    "\n",
    "#Saving to excel\n",
    "train_data[['IsHoliday', 'Type']].to_excel(output, 'Train Encoded Variables')\n",
    "\n",
    "test_data['IsHoliday'] = le.fit_transform(test_data.IsHoliday)\n",
    "test_data['Type'] = le.fit_transform(test_data.Type)\n",
    "\n",
    "#Saving to excel\n",
    "test_data[['IsHoliday', 'Type']].to_excel(output, 'Test Encoded Variables')"
   ]
  },
  {
   "cell_type": "markdown",
   "metadata": {},
   "source": [
    "#### Creating new Holiday variable based on given date"
   ]
  },
  {
   "cell_type": "code",
   "execution_count": 49,
   "metadata": {},
   "outputs": [],
   "source": [
    "#Getting dates of Super Bowl, Labor\n",
    "new_hdays = ['2010-02-12','2011-02-11','2012-02-10','2013-02-08',\n",
    "             '2010-09-10','2011-09-09','2012-09-07','2013-09-06',\n",
    "            '2010-11-26','2011-11-25','2012-11-23','2013-11-29',\n",
    "            '2010-12-31','2011-12-30','2012-12-28','2013-12-27',]"
   ]
  },
  {
   "cell_type": "code",
   "execution_count": 50,
   "metadata": {},
   "outputs": [],
   "source": [
    "#Adding new holidays to train and test dataset\n",
    "train_data.loc[train.Date.isin(new_hdays), 'IsHoliday'] = 1\n",
    "test_data.loc[test.Date.isin(new_hdays), 'IsHoliday'] = 1"
   ]
  },
  {
   "cell_type": "code",
   "execution_count": 51,
   "metadata": {},
   "outputs": [
    {
     "data": {
      "text/plain": [
       "Store           False\n",
       "Dept            False\n",
       "Weekly_Sales    False\n",
       "IsHoliday       False\n",
       "Temperature     False\n",
       "Fuel_Price      False\n",
       "MarkDown1       False\n",
       "MarkDown2        True\n",
       "MarkDown3       False\n",
       "MarkDown4       False\n",
       "MarkDown5       False\n",
       "CPI             False\n",
       "Unemployment    False\n",
       "Type            False\n",
       "Size            False\n",
       "Year            False\n",
       "Month           False\n",
       "Week            False\n",
       "Day             False\n",
       "dtype: bool"
      ]
     },
     "execution_count": 51,
     "metadata": {},
     "output_type": "execute_result"
    }
   ],
   "source": [
    "#Checking for negative values\n",
    "(train_data.drop(['Date'], axis =1)<0).any(0)"
   ]
  },
  {
   "cell_type": "code",
   "execution_count": 52,
   "metadata": {},
   "outputs": [],
   "source": [
    "#Replacing negative values in MarkDown2 with zeros\n",
    "train_data.loc[train_data.MarkDown2<0,'MarkDown2'] = 0"
   ]
  },
  {
   "cell_type": "code",
   "execution_count": 53,
   "metadata": {},
   "outputs": [],
   "source": [
    "#Dropping Date as it has no significance for our prediction model\n",
    "train_data.drop('Date', axis = 1, inplace = True)\n",
    "test_final = test_data.drop('Date', axis = 1)"
   ]
  },
  {
   "cell_type": "code",
   "execution_count": 54,
   "metadata": {},
   "outputs": [],
   "source": [
    "#Droping Year and Month from train and test dataset to group the data at week level\n",
    "train_data.drop(['Year', 'Month', 'Day'], axis = 1, inplace = True)\n",
    "test_final.drop(['Year', 'Month', 'Day'], axis = 1, inplace = True)"
   ]
  },
  {
   "cell_type": "code",
   "execution_count": 55,
   "metadata": {},
   "outputs": [
    {
     "data": {
      "text/plain": [
       "Index(['Store', 'Dept', 'Weekly_Sales', 'IsHoliday', 'Temperature',\n",
       "       'Fuel_Price', 'MarkDown1', 'MarkDown2', 'MarkDown3', 'MarkDown4',\n",
       "       'MarkDown5', 'CPI', 'Unemployment', 'Type', 'Size', 'Week'],\n",
       "      dtype='object')"
      ]
     },
     "execution_count": 55,
     "metadata": {},
     "output_type": "execute_result"
    }
   ],
   "source": [
    "train_data.columns"
   ]
  },
  {
   "cell_type": "code",
   "execution_count": 56,
   "metadata": {},
   "outputs": [],
   "source": [
    "#Grouping train data at Store, Department and Week level\n",
    "train_data = train_data.groupby(['Store','Dept','Week']).agg({'Weekly_Sales': 'mean','IsHoliday' : 'max',\n",
    "              'Temperature' : 'mean', 'Fuel_Price' : 'mean', 'MarkDown1' : 'mean',\n",
    "              'MarkDown2' : 'mean', 'MarkDown3' : 'mean', 'MarkDown4' : 'mean',\n",
    "              'MarkDown5' : 'mean', 'CPI' : 'mean', 'Unemployment' : 'mean',\n",
    "              'Type' : lambda x: x.mode(), 'Size' : 'mean'}).reset_index()"
   ]
  },
  {
   "cell_type": "code",
   "execution_count": 57,
   "metadata": {},
   "outputs": [],
   "source": [
    "#Saving final train and test dataset to excel\n",
    "train_data.to_excel(output, 'Final Train Data')\n",
    "test_final.to_excel(output, 'Final Test Data')"
   ]
  },
  {
   "cell_type": "markdown",
   "metadata": {},
   "source": [
    "### Correlation Matrix"
   ]
  },
  {
   "cell_type": "code",
   "execution_count": 58,
   "metadata": {},
   "outputs": [
    {
     "data": {
      "text/plain": [
       "CPI             0.105427\n",
       "Temperature     0.066740\n",
       "MarkDown5       0.010117\n",
       "IsHoliday       0.003468\n",
       "Dept            0.002633\n",
       "Week            0.002086\n",
       "MarkDown3      -0.000778\n",
       "MarkDown2      -0.014904\n",
       "MarkDown4      -0.018073\n",
       "MarkDown1      -0.020529\n",
       "Size           -0.025058\n",
       "Store          -0.027233\n",
       "Unemployment   -0.032543\n",
       "Weekly_Sales   -0.033525\n",
       "Fuel_Price     -0.040666\n",
       "Type           -0.048510\n",
       "dtype: float64"
      ]
     },
     "execution_count": 58,
     "metadata": {},
     "output_type": "execute_result"
    }
   ],
   "source": [
    "#Checking correlation with the dependant variable - Weekly_Sales\n",
    "corr = train_data.corrwith(train['Weekly_Sales']).sort_values(ascending = False)\n",
    "corr.to_excel(output, 'Correlation with Target')\n",
    "corr"
   ]
  },
  {
   "cell_type": "code",
   "execution_count": 59,
   "metadata": {},
   "outputs": [
    {
     "data": {
      "image/png": "[encoded data removed]",
      "text/plain": [
       "<Figure size 720x576 with 2 Axes>"
      ]
     },
     "metadata": {
      "needs_background": "light"
     },
     "output_type": "display_data"
    }
   ],
   "source": [
    "#Correlation matrix heatmap of train dataset\n",
    "cm = train_data.corr()\n",
    "cm.to_excel(output, 'Train Correlation Matrix')\n",
    "\n",
    "plt.figure(figsize = (10,8))\n",
    "sns.heatmap(cm, linewidths = 1)\n",
    "plt.show()"
   ]
  },
  {
   "cell_type": "code",
   "execution_count": 60,
   "metadata": {},
   "outputs": [
    {
     "data": {
      "image/png": "[encoded data removed]",
      "text/plain": [
       "<Figure size 720x576 with 2 Axes>"
      ]
     },
     "metadata": {
      "needs_background": "light"
     },
     "output_type": "display_data"
    }
   ],
   "source": [
    "#Correlation matrix heatmap of test dataset\n",
    "cm1 = test_final.corr()\n",
    "cm1.to_excel(output, 'Test Correlation Matrix')\n",
    "\n",
    "plt.figure(figsize = (10,8))\n",
    "sns.heatmap(cm1, linewidths = 1)\n",
    "plt.show()"
   ]
  },
  {
   "cell_type": "markdown",
   "metadata": {},
   "source": [
    "## Feature Selection"
   ]
  },
  {
   "cell_type": "code",
   "execution_count": 61,
   "metadata": {},
   "outputs": [],
   "source": [
    "#Defining X and Y\n",
    "Y = train_data['Weekly_Sales']\n",
    "X = train_data.drop(['Weekly_Sales'], axis = 1)"
   ]
  },
  {
   "cell_type": "code",
   "execution_count": 62,
   "metadata": {},
   "outputs": [],
   "source": [
    "#Getting Model Formula\n",
    "model_fm = '''Weekly_Sales ~ Store + Dept + Week + IsHoliday + Temperature + Fuel_Price +\n",
    "              MarkDown1 + MarkDown2 + MarkDown3 + MarkDown4 + MarkDown5 + CPI + Unemployment\n",
    "              + Type + Size'''"
   ]
  },
  {
   "cell_type": "code",
   "execution_count": 63,
   "metadata": {},
   "outputs": [
    {
     "data": {
      "text/html": [
       "<div>\n",
       "<style scoped>\n",
       "    .dataframe tbody tr th:only-of-type {\n",
       "        vertical-align: middle;\n",
       "    }\n",
       "\n",
       "    .dataframe tbody tr th {\n",
       "        vertical-align: top;\n",
       "    }\n",
       "\n",
       "    .dataframe thead th {\n",
       "        text-align: right;\n",
       "    }\n",
       "</style>\n",
       "<table border=\"1\" class=\"dataframe\">\n",
       "  <thead>\n",
       "    <tr style=\"text-align: right;\">\n",
       "      <th></th>\n",
       "      <th>Features</th>\n",
       "      <th>VIF Factor</th>\n",
       "    </tr>\n",
       "  </thead>\n",
       "  <tbody>\n",
       "    <tr>\n",
       "      <th>0</th>\n",
       "      <td>Intercept</td>\n",
       "      <td>480.1</td>\n",
       "    </tr>\n",
       "    <tr>\n",
       "      <th>1</th>\n",
       "      <td>Store</td>\n",
       "      <td>1.1</td>\n",
       "    </tr>\n",
       "    <tr>\n",
       "      <th>2</th>\n",
       "      <td>Dept</td>\n",
       "      <td>1.0</td>\n",
       "    </tr>\n",
       "    <tr>\n",
       "      <th>3</th>\n",
       "      <td>Week</td>\n",
       "      <td>1.2</td>\n",
       "    </tr>\n",
       "    <tr>\n",
       "      <th>4</th>\n",
       "      <td>IsHoliday</td>\n",
       "      <td>1.1</td>\n",
       "    </tr>\n",
       "    <tr>\n",
       "      <th>5</th>\n",
       "      <td>Temperature</td>\n",
       "      <td>1.5</td>\n",
       "    </tr>\n",
       "    <tr>\n",
       "      <th>6</th>\n",
       "      <td>Fuel_Price</td>\n",
       "      <td>1.6</td>\n",
       "    </tr>\n",
       "    <tr>\n",
       "      <th>7</th>\n",
       "      <td>MarkDown1</td>\n",
       "      <td>3.1</td>\n",
       "    </tr>\n",
       "    <tr>\n",
       "      <th>8</th>\n",
       "      <td>MarkDown2</td>\n",
       "      <td>1.2</td>\n",
       "    </tr>\n",
       "    <tr>\n",
       "      <th>9</th>\n",
       "      <td>MarkDown3</td>\n",
       "      <td>1.1</td>\n",
       "    </tr>\n",
       "    <tr>\n",
       "      <th>10</th>\n",
       "      <td>MarkDown4</td>\n",
       "      <td>2.9</td>\n",
       "    </tr>\n",
       "    <tr>\n",
       "      <th>11</th>\n",
       "      <td>MarkDown5</td>\n",
       "      <td>1.2</td>\n",
       "    </tr>\n",
       "    <tr>\n",
       "      <th>12</th>\n",
       "      <td>CPI</td>\n",
       "      <td>1.6</td>\n",
       "    </tr>\n",
       "    <tr>\n",
       "      <th>13</th>\n",
       "      <td>Unemployment</td>\n",
       "      <td>1.2</td>\n",
       "    </tr>\n",
       "    <tr>\n",
       "      <th>14</th>\n",
       "      <td>Type</td>\n",
       "      <td>3.0</td>\n",
       "    </tr>\n",
       "    <tr>\n",
       "      <th>15</th>\n",
       "      <td>Size</td>\n",
       "      <td>3.2</td>\n",
       "    </tr>\n",
       "  </tbody>\n",
       "</table>\n",
       "</div>"
      ],
      "text/plain": [
       "        Features  VIF Factor\n",
       "0      Intercept       480.1\n",
       "1          Store         1.1\n",
       "2           Dept         1.0\n",
       "3           Week         1.2\n",
       "4      IsHoliday         1.1\n",
       "5    Temperature         1.5\n",
       "6     Fuel_Price         1.6\n",
       "7      MarkDown1         3.1\n",
       "8      MarkDown2         1.2\n",
       "9      MarkDown3         1.1\n",
       "10     MarkDown4         2.9\n",
       "11     MarkDown5         1.2\n",
       "12           CPI         1.6\n",
       "13  Unemployment         1.2\n",
       "14          Type         3.0\n",
       "15          Size         3.2"
      ]
     },
     "execution_count": 63,
     "metadata": {},
     "output_type": "execute_result"
    }
   ],
   "source": [
    "## Separating the X and Y variables\n",
    "target, predictor  = dmatrices(model_fm, train_data, return_type = 'dataframe')\n",
    "\n",
    "#Calculating VIF for each X and saving in DataFrame\n",
    "vif = pd.DataFrame()\n",
    "vif['Features'] = predictor.columns\n",
    "vif['VIF Factor'] = [variance_inflation_factor(predictor.values, i) for i in range(predictor.shape[1])]\n",
    "\n",
    "vif.round(1).to_excel(output, 'VIF Result', index = True)\n",
    "\n",
    "#Getting features\n",
    "vif_cols = list(set(vif.Features).difference(['Intercept']))\n",
    "\n",
    "#VIF output\n",
    "vif.round(1)"
   ]
  },
  {
   "cell_type": "markdown",
   "metadata": {},
   "source": [
    "All the features have less than 4 VIF Factor i.e low multicollinearity. We can proceed with these features for building model."
   ]
  },
  {
   "cell_type": "markdown",
   "metadata": {},
   "source": [
    "# Building  Model"
   ]
  },
  {
   "cell_type": "code",
   "execution_count": 64,
   "metadata": {},
   "outputs": [],
   "source": [
    "#Getting Train and Test dataset\n",
    "train_x, test_x, train_y, test_y = train_test_split(X, Y, test_size = 0.3, random_state = 123)"
   ]
  },
  {
   "cell_type": "markdown",
   "metadata": {},
   "source": [
    "# Random Forest Model"
   ]
  },
  {
   "cell_type": "code",
   "execution_count": 65,
   "metadata": {},
   "outputs": [],
   "source": [
    "#Setting Random Forest parameters\n",
    "rf = RandomForestRegressor(n_estimators = 200, random_state = 123,\n",
    "                           n_jobs = -1).fit(train_x, train_y)"
   ]
  },
  {
   "cell_type": "code",
   "execution_count": 66,
   "metadata": {},
   "outputs": [],
   "source": [
    "#Making dataframes to store train and test predicted values \n",
    "tr = pd.DataFrame(train_y)\n",
    "ts = pd.DataFrame(test_y)\n",
    "\n",
    "#Predicting total spent on train and test dataset\n",
    "tr.loc[:, 'rf_pred_sales'] = rf.predict(train_x)\n",
    "ts.loc[:, 'rf_pred_sales'] = rf.predict(test_x)"
   ]
  },
  {
   "cell_type": "code",
   "execution_count": 67,
   "metadata": {},
   "outputs": [
    {
     "name": "stdout",
     "output_type": "stream",
     "text": [
      "R-square Score: 0.9806416817690738\n",
      "\n",
      "Training MSE: 1211363.4051622075  |  Testing MSE: 8195943.4485947\n",
      "Training RMSE:  1100.6195551425603  |  Testing RMSE: 2862.8558204343262\n",
      "\n",
      "Training MAE: 482.5685961181994 | Testing MAE: 1289.6887944517068\n",
      "\n",
      "Training MAPE: 0.448994503441091 | Testing MAPE: 0.9322101523301745\n",
      "\n",
      "Training RMSPE: 23.832249551728513  |  Testing RMSPE: 22.95460761643819\n"
     ]
    }
   ],
   "source": [
    "#R-square Score\n",
    "rf_r2 = metrics.r2_score(test_y, ts.rf_pred_sales)\n",
    "\n",
    "print('R-square Score:', rf_r2)\n",
    "\n",
    "#Getting Mean Squared Error Metric - MSE\n",
    "rf_MSE_train = metrics.mean_squared_error(train_y, tr.rf_pred_sales)\n",
    "rf_MSE_test = metrics.mean_squared_error(test_y, ts.rf_pred_sales)\n",
    "\n",
    "print('\\nTraining MSE:', rf_MSE_train,' | ','Testing MSE:', rf_MSE_test)\n",
    "\n",
    "#Getting Root Mean Squared Error - RMSE\n",
    "rf_RMSE_train = np.sqrt(rf_MSE_train)\n",
    "rf_RMSE_test = np.sqrt(rf_MSE_test)\n",
    "\n",
    "print('Training RMSE: ',rf_RMSE_train,' | ','Testing RMSE:',rf_RMSE_test)\n",
    "\n",
    "#Getting Mean Absolute Error Metric - MAE\n",
    "rf_MAE_train = metrics.mean_absolute_error(train_y, tr.rf_pred_sales)\n",
    "rf_MAE_test = metrics.mean_absolute_error(test_y, ts.rf_pred_sales)\n",
    "\n",
    "print('\\nTraining MAE:', rf_MAE_train, '|', 'Testing MAE:', rf_MAE_test)\n",
    "\n",
    "#Getting Mean Absolute Percentage Error - MAPE\n",
    "rf_MAPE_train = np.mean(np.abs(train_y - tr['rf_pred_sales'])/train_y)\n",
    "rf_MAPE_test = np.mean(np.abs(test_y - ts['rf_pred_sales'])/test_y)\n",
    "                    \n",
    "print('\\nTraining MAPE:', rf_MAPE_train, '|', 'Testing MAPE:',rf_MAPE_test)\n",
    "\n",
    "#Getting Root Mean Squared Percentage Error - RMSPE\n",
    "rf_RMSPE_train = np.sqrt(np.mean(((train_y - tr['rf_pred_sales'])/train_y)**2))\n",
    "rf_RMSPE_test = np.sqrt(np.mean(((test_y - ts['rf_pred_sales'])/test_y)**2))\n",
    "\n",
    "print('\\nTraining RMSPE:', rf_RMSPE_train,' | ','Testing RMSPE:', rf_RMSPE_test)"
   ]
  },
  {
   "cell_type": "code",
   "execution_count": 68,
   "metadata": {},
   "outputs": [
    {
     "name": "stdout",
     "output_type": "stream",
     "text": [
      "Correlation - Train Data:  (0.998596544823853, 0.0) | Test Data:  (0.9902964808534, 0.0)\n"
     ]
    }
   ],
   "source": [
    "#Correlation between actual and predicted values\n",
    "Corr_train = stats.stats.pearsonr(train_y, tr.rf_pred_sales)\n",
    "Corr_test = stats.stats.pearsonr(test_y, ts.rf_pred_sales)\n",
    "\n",
    "print('Correlation - Train Data: ', Corr_train, '|', 'Test Data: ', Corr_test)"
   ]
  },
  {
   "cell_type": "markdown",
   "metadata": {},
   "source": [
    "### Decile Analysis"
   ]
  },
  {
   "cell_type": "code",
   "execution_count": 69,
   "metadata": {},
   "outputs": [],
   "source": [
    "\n",
    "#Creating Deciles\n",
    "tr.loc[:, 'rf_Deciles'] = pd.qcut(tr.rf_pred_sales, 10, labels = False)\n",
    "ts.loc[:, 'rf_Deciles'] = pd.qcut(ts.rf_pred_sales, 10, labels = False)\n",
    "\n",
    "#Summarizing the data by deciles on train and test dataset\n",
    "rf_decile_train = tr.groupby(['rf_Deciles'])[['Weekly_Sales','rf_pred_sales']].mean().reset_index().sort_values(by = 'rf_Deciles', ascending = False)\n",
    "rf_decile_test = ts.groupby(['rf_Deciles'])[['Weekly_Sales','rf_pred_sales']].mean().reset_index().sort_values(by = 'rf_Deciles', ascending = False)"
   ]
  },
  {
   "cell_type": "code",
   "execution_count": 70,
   "metadata": {},
   "outputs": [
    {
     "data": {
      "text/html": [
       "<div>\n",
       "<style scoped>\n",
       "    .dataframe tbody tr th:only-of-type {\n",
       "        vertical-align: middle;\n",
       "    }\n",
       "\n",
       "    .dataframe tbody tr th {\n",
       "        vertical-align: top;\n",
       "    }\n",
       "\n",
       "    .dataframe thead th {\n",
       "        text-align: right;\n",
       "    }\n",
       "</style>\n",
       "<table border=\"1\" class=\"dataframe\">\n",
       "  <thead>\n",
       "    <tr style=\"text-align: right;\">\n",
       "      <th></th>\n",
       "      <th>rf_Deciles</th>\n",
       "      <th>Weekly_Sales</th>\n",
       "      <th>rf_pred_sales</th>\n",
       "    </tr>\n",
       "  </thead>\n",
       "  <tbody>\n",
       "    <tr>\n",
       "      <th>9</th>\n",
       "      <td>9</td>\n",
       "      <td>66209.698271</td>\n",
       "      <td>65817.447969</td>\n",
       "    </tr>\n",
       "    <tr>\n",
       "      <th>8</th>\n",
       "      <td>8</td>\n",
       "      <td>32262.157641</td>\n",
       "      <td>32304.542422</td>\n",
       "    </tr>\n",
       "    <tr>\n",
       "      <th>7</th>\n",
       "      <td>7</td>\n",
       "      <td>19814.503903</td>\n",
       "      <td>19911.790432</td>\n",
       "    </tr>\n",
       "    <tr>\n",
       "      <th>6</th>\n",
       "      <td>6</td>\n",
       "      <td>13216.868530</td>\n",
       "      <td>13343.341385</td>\n",
       "    </tr>\n",
       "    <tr>\n",
       "      <th>5</th>\n",
       "      <td>5</td>\n",
       "      <td>8817.628220</td>\n",
       "      <td>8901.306295</td>\n",
       "    </tr>\n",
       "    <tr>\n",
       "      <th>4</th>\n",
       "      <td>4</td>\n",
       "      <td>5686.335472</td>\n",
       "      <td>5765.421523</td>\n",
       "    </tr>\n",
       "    <tr>\n",
       "      <th>3</th>\n",
       "      <td>3</td>\n",
       "      <td>3435.722981</td>\n",
       "      <td>3495.138121</td>\n",
       "    </tr>\n",
       "    <tr>\n",
       "      <th>2</th>\n",
       "      <td>2</td>\n",
       "      <td>1748.155259</td>\n",
       "      <td>1798.495958</td>\n",
       "    </tr>\n",
       "    <tr>\n",
       "      <th>1</th>\n",
       "      <td>1</td>\n",
       "      <td>541.564521</td>\n",
       "      <td>577.251121</td>\n",
       "    </tr>\n",
       "    <tr>\n",
       "      <th>0</th>\n",
       "      <td>0</td>\n",
       "      <td>56.392501</td>\n",
       "      <td>64.129506</td>\n",
       "    </tr>\n",
       "  </tbody>\n",
       "</table>\n",
       "</div>"
      ],
      "text/plain": [
       "   rf_Deciles  Weekly_Sales  rf_pred_sales\n",
       "9           9  66209.698271   65817.447969\n",
       "8           8  32262.157641   32304.542422\n",
       "7           7  19814.503903   19911.790432\n",
       "6           6  13216.868530   13343.341385\n",
       "5           5   8817.628220    8901.306295\n",
       "4           4   5686.335472    5765.421523\n",
       "3           3   3435.722981    3495.138121\n",
       "2           2   1748.155259    1798.495958\n",
       "1           1    541.564521     577.251121\n",
       "0           0     56.392501      64.129506"
      ]
     },
     "execution_count": 70,
     "metadata": {},
     "output_type": "execute_result"
    }
   ],
   "source": [
    "rf_decile_train.to_excel(output, 'Decile Analysis', startrow=4 , startcol=2, index = False)\n",
    "rf_decile_train"
   ]
  },
  {
   "cell_type": "code",
   "execution_count": 71,
   "metadata": {},
   "outputs": [
    {
     "data": {
      "text/html": [
       "<div>\n",
       "<style scoped>\n",
       "    .dataframe tbody tr th:only-of-type {\n",
       "        vertical-align: middle;\n",
       "    }\n",
       "\n",
       "    .dataframe tbody tr th {\n",
       "        vertical-align: top;\n",
       "    }\n",
       "\n",
       "    .dataframe thead th {\n",
       "        text-align: right;\n",
       "    }\n",
       "</style>\n",
       "<table border=\"1\" class=\"dataframe\">\n",
       "  <thead>\n",
       "    <tr style=\"text-align: right;\">\n",
       "      <th></th>\n",
       "      <th>rf_Deciles</th>\n",
       "      <th>Weekly_Sales</th>\n",
       "      <th>rf_pred_sales</th>\n",
       "    </tr>\n",
       "  </thead>\n",
       "  <tbody>\n",
       "    <tr>\n",
       "      <th>9</th>\n",
       "      <td>9</td>\n",
       "      <td>65539.748241</td>\n",
       "      <td>65126.856927</td>\n",
       "    </tr>\n",
       "    <tr>\n",
       "      <th>8</th>\n",
       "      <td>8</td>\n",
       "      <td>32082.652131</td>\n",
       "      <td>32041.188918</td>\n",
       "    </tr>\n",
       "    <tr>\n",
       "      <th>7</th>\n",
       "      <td>7</td>\n",
       "      <td>19739.438211</td>\n",
       "      <td>19950.085827</td>\n",
       "    </tr>\n",
       "    <tr>\n",
       "      <th>6</th>\n",
       "      <td>6</td>\n",
       "      <td>13259.100676</td>\n",
       "      <td>13430.980640</td>\n",
       "    </tr>\n",
       "    <tr>\n",
       "      <th>5</th>\n",
       "      <td>5</td>\n",
       "      <td>8920.472409</td>\n",
       "      <td>9031.758053</td>\n",
       "    </tr>\n",
       "    <tr>\n",
       "      <th>4</th>\n",
       "      <td>4</td>\n",
       "      <td>5758.333368</td>\n",
       "      <td>5873.286697</td>\n",
       "    </tr>\n",
       "    <tr>\n",
       "      <th>3</th>\n",
       "      <td>3</td>\n",
       "      <td>3479.424773</td>\n",
       "      <td>3570.176428</td>\n",
       "    </tr>\n",
       "    <tr>\n",
       "      <th>2</th>\n",
       "      <td>2</td>\n",
       "      <td>1781.263955</td>\n",
       "      <td>1851.527444</td>\n",
       "    </tr>\n",
       "    <tr>\n",
       "      <th>1</th>\n",
       "      <td>1</td>\n",
       "      <td>561.530845</td>\n",
       "      <td>602.984457</td>\n",
       "    </tr>\n",
       "    <tr>\n",
       "      <th>0</th>\n",
       "      <td>0</td>\n",
       "      <td>67.393320</td>\n",
       "      <td>73.998791</td>\n",
       "    </tr>\n",
       "  </tbody>\n",
       "</table>\n",
       "</div>"
      ],
      "text/plain": [
       "   rf_Deciles  Weekly_Sales  rf_pred_sales\n",
       "9           9  65539.748241   65126.856927\n",
       "8           8  32082.652131   32041.188918\n",
       "7           7  19739.438211   19950.085827\n",
       "6           6  13259.100676   13430.980640\n",
       "5           5   8920.472409    9031.758053\n",
       "4           4   5758.333368    5873.286697\n",
       "3           3   3479.424773    3570.176428\n",
       "2           2   1781.263955    1851.527444\n",
       "1           1    561.530845     602.984457\n",
       "0           0     67.393320      73.998791"
      ]
     },
     "execution_count": 71,
     "metadata": {},
     "output_type": "execute_result"
    }
   ],
   "source": [
    "rf_decile_test.to_excel(output, 'Decile Analysis', startrow=4 , startcol=6, index = False)\n",
    "rf_decile_test"
   ]
  },
  {
   "cell_type": "code",
   "execution_count": 72,
   "metadata": {},
   "outputs": [
    {
     "data": {
      "text/plain": [
       "<BarContainer object of 15 artists>"
      ]
     },
     "execution_count": 72,
     "metadata": {},
     "output_type": "execute_result"
    },
    {
     "data": {
      "image/png": "[encoded data removed]",
      "text/plain": [
       "<Figure size 432x288 with 1 Axes>"
      ]
     },
     "metadata": {
      "needs_background": "light"
     },
     "output_type": "display_data"
    }
   ],
   "source": [
    "#Feature Impotance for Random Forest Model\n",
    "rf_fi = pd.DataFrame({'Features' : train_x.columns ,\n",
    "                      'Importance' : rf.feature_importances_\n",
    "                     }).sort_values(by = 'Importance').reset_index(drop = True)\n",
    "\n",
    "rf_fi.to_excel(output, 'Drivers', startrow=5, startcol=1, index = False)\n",
    "\n",
    "plt.barh(width = rf_fi.Importance, y = rf_fi.Features)"
   ]
  },
  {
   "cell_type": "markdown",
   "metadata": {},
   "source": [
    "# Gradient Boost Model"
   ]
  },
  {
   "cell_type": "code",
   "execution_count": 73,
   "metadata": {},
   "outputs": [],
   "source": [
    "#Setting parameters\n",
    "gb = GradientBoostingRegressor(n_estimators = 300, random_state = 123).fit(train_x, train_y)"
   ]
  },
  {
   "cell_type": "code",
   "execution_count": 74,
   "metadata": {},
   "outputs": [],
   "source": [
    "#Predicting total spent on train and test dataset\n",
    "tr.loc[:, 'gb_pred_sales'] = gb.predict(train_x)\n",
    "ts.loc[:, 'gb_pred_sales'] = gb.predict(test_x)"
   ]
  },
  {
   "cell_type": "code",
   "execution_count": 75,
   "metadata": {},
   "outputs": [
    {
     "name": "stdout",
     "output_type": "stream",
     "text": [
      "R-square Score: 0.8549313927346014\n",
      "\n",
      "Training MSE: 61012527.03254417  |  Testing MSE: 61419286.899320394\n",
      "Training RMSE:  7811.051595818848  |  Testing RMSE: 7837.045801787839\n",
      "\n",
      "Training MAE: 4968.387935758425 | Testing MAE: 5005.651016371407\n",
      "\n",
      "Training MAPE: 21.761483870531812 | Testing MAPE: 20.606920106234867\n",
      "\n",
      "Training RMSPE: 151.15234961900956  |  Testing RMSPE: 135.70501528393993\n"
     ]
    }
   ],
   "source": [
    "#R-square Score\n",
    "gb_r2 = metrics.r2_score(test_y, ts.gb_pred_sales)\n",
    "\n",
    "print('R-square Score:', gb_r2)\n",
    "\n",
    "#Getting Mean Squared Error Metric - MSE\n",
    "gb_MSE_train = metrics.mean_squared_error(train_y, tr.gb_pred_sales)\n",
    "gb_MSE_test = metrics.mean_squared_error(test_y, ts.gb_pred_sales)\n",
    "\n",
    "print('\\nTraining MSE:', gb_MSE_train,' | ','Testing MSE:', gb_MSE_test)\n",
    "\n",
    "#Getting Root Mean Squared Error - RMSE\n",
    "gb_RMSE_train = np.sqrt(gb_MSE_train)\n",
    "gb_RMSE_test = np.sqrt(gb_MSE_test)\n",
    "\n",
    "print('Training RMSE: ',gb_RMSE_train,' | ','Testing RMSE:',gb_RMSE_test)\n",
    "\n",
    "#Getting Mean Absolute Error Metric - MAE\n",
    "gb_MAE_train = metrics.mean_absolute_error(train_y, tr.gb_pred_sales)\n",
    "gb_MAE_test = metrics.mean_absolute_error(test_y, ts.gb_pred_sales)\n",
    "\n",
    "print('\\nTraining MAE:', gb_MAE_train, '|', 'Testing MAE:', gb_MAE_test)\n",
    "\n",
    "#Getting Mean Absolute Percentage Error - MAPE\n",
    "gb_MAPE_train = np.mean(np.abs(train_y - tr['gb_pred_sales'])/train_y)\n",
    "gb_MAPE_test = np.mean(np.abs(test_y - ts['gb_pred_sales'])/test_y)\n",
    "                    \n",
    "print('\\nTraining MAPE:', gb_MAPE_train, '|', 'Testing MAPE:', gb_MAPE_test)\n",
    "\n",
    "#Getting Root Mean Squared Percentage Error - RMSPE\n",
    "gb_RMSPE_train = np.sqrt(np.mean(((train_y - tr['gb_pred_sales'])/train_y)**2))\n",
    "gb_RMSPE_test = np.sqrt(np.mean(((test_y - ts['gb_pred_sales'])/test_y)**2))\n",
    "\n",
    "print('\\nTraining RMSPE:', gb_RMSPE_train,' | ','Testing RMSPE:', gb_RMSPE_test)"
   ]
  },
  {
   "cell_type": "code",
   "execution_count": 76,
   "metadata": {
    "scrolled": true
   },
   "outputs": [
    {
     "name": "stdout",
     "output_type": "stream",
     "text": [
      "Correlation - Train Data:  (0.9280338456176207, 0.0) | Test Data:  (0.9271267892880981, 0.0)\n"
     ]
    }
   ],
   "source": [
    "#Correlation between actual and predicted values\n",
    "Corr_train = stats.stats.pearsonr(train_y, tr.gb_pred_sales)\n",
    "Corr_test = stats.stats.pearsonr(test_y, ts.gb_pred_sales)\n",
    "\n",
    "print('Correlation - Train Data: ', Corr_train, '|', 'Test Data: ', Corr_test)"
   ]
  },
  {
   "cell_type": "markdown",
   "metadata": {},
   "source": [
    "### Decile Analysis"
   ]
  },
  {
   "cell_type": "code",
   "execution_count": 77,
   "metadata": {},
   "outputs": [],
   "source": [
    "\n",
    "#Creating Deciles\n",
    "tr.loc[:, 'gb_Deciles'] = pd.qcut(tr.gb_pred_sales, 10, labels = False)\n",
    "ts.loc[:, 'gb_Deciles'] = pd.qcut(ts.gb_pred_sales, 10, labels = False)\n",
    "\n",
    "#Summarizing the data by deciles on train and test dataset\n",
    "gb_decile_train = tr.groupby(['gb_Deciles'])[['Weekly_Sales','gb_pred_sales']].mean().reset_index().sort_values(by = 'gb_Deciles', ascending = False)\n",
    "gb_decile_test = ts.groupby(['gb_Deciles'])[['Weekly_Sales','gb_pred_sales']].mean().reset_index().sort_values(by = 'gb_Deciles', ascending = False)"
   ]
  },
  {
   "cell_type": "code",
   "execution_count": 78,
   "metadata": {},
   "outputs": [
    {
     "data": {
      "text/html": [
       "<div>\n",
       "<style scoped>\n",
       "    .dataframe tbody tr th:only-of-type {\n",
       "        vertical-align: middle;\n",
       "    }\n",
       "\n",
       "    .dataframe tbody tr th {\n",
       "        vertical-align: top;\n",
       "    }\n",
       "\n",
       "    .dataframe thead th {\n",
       "        text-align: right;\n",
       "    }\n",
       "</style>\n",
       "<table border=\"1\" class=\"dataframe\">\n",
       "  <thead>\n",
       "    <tr style=\"text-align: right;\">\n",
       "      <th></th>\n",
       "      <th>gb_Deciles</th>\n",
       "      <th>Weekly_Sales</th>\n",
       "      <th>gb_pred_sales</th>\n",
       "    </tr>\n",
       "  </thead>\n",
       "  <tbody>\n",
       "    <tr>\n",
       "      <th>9</th>\n",
       "      <td>9</td>\n",
       "      <td>63046.480530</td>\n",
       "      <td>58305.899727</td>\n",
       "    </tr>\n",
       "    <tr>\n",
       "      <th>8</th>\n",
       "      <td>8</td>\n",
       "      <td>30755.563535</td>\n",
       "      <td>30431.847535</td>\n",
       "    </tr>\n",
       "    <tr>\n",
       "      <th>7</th>\n",
       "      <td>7</td>\n",
       "      <td>19872.306389</td>\n",
       "      <td>19972.046942</td>\n",
       "    </tr>\n",
       "    <tr>\n",
       "      <th>6</th>\n",
       "      <td>6</td>\n",
       "      <td>13358.869150</td>\n",
       "      <td>14368.326324</td>\n",
       "    </tr>\n",
       "    <tr>\n",
       "      <th>5</th>\n",
       "      <td>5</td>\n",
       "      <td>8819.448990</td>\n",
       "      <td>10637.870461</td>\n",
       "    </tr>\n",
       "    <tr>\n",
       "      <th>4</th>\n",
       "      <td>4</td>\n",
       "      <td>6515.264953</td>\n",
       "      <td>7948.992611</td>\n",
       "    </tr>\n",
       "    <tr>\n",
       "      <th>3</th>\n",
       "      <td>3</td>\n",
       "      <td>4324.470939</td>\n",
       "      <td>5776.322899</td>\n",
       "    </tr>\n",
       "    <tr>\n",
       "      <th>2</th>\n",
       "      <td>2</td>\n",
       "      <td>2854.411107</td>\n",
       "      <td>3801.932947</td>\n",
       "    </tr>\n",
       "    <tr>\n",
       "      <th>1</th>\n",
       "      <td>1</td>\n",
       "      <td>1645.106010</td>\n",
       "      <td>1787.549679</td>\n",
       "    </tr>\n",
       "    <tr>\n",
       "      <th>0</th>\n",
       "      <td>0</td>\n",
       "      <td>598.553284</td>\n",
       "      <td>-1239.868044</td>\n",
       "    </tr>\n",
       "  </tbody>\n",
       "</table>\n",
       "</div>"
      ],
      "text/plain": [
       "   gb_Deciles  Weekly_Sales  gb_pred_sales\n",
       "9           9  63046.480530   58305.899727\n",
       "8           8  30755.563535   30431.847535\n",
       "7           7  19872.306389   19972.046942\n",
       "6           6  13358.869150   14368.326324\n",
       "5           5   8819.448990   10637.870461\n",
       "4           4   6515.264953    7948.992611\n",
       "3           3   4324.470939    5776.322899\n",
       "2           2   2854.411107    3801.932947\n",
       "1           1   1645.106010    1787.549679\n",
       "0           0    598.553284   -1239.868044"
      ]
     },
     "execution_count": 78,
     "metadata": {},
     "output_type": "execute_result"
    }
   ],
   "source": [
    "gb_decile_train.to_excel(output, 'Decile Analysis', startrow=4 , startcol=10, index = False)\n",
    "gb_decile_train"
   ]
  },
  {
   "cell_type": "code",
   "execution_count": 79,
   "metadata": {},
   "outputs": [
    {
     "data": {
      "text/html": [
       "<div>\n",
       "<style scoped>\n",
       "    .dataframe tbody tr th:only-of-type {\n",
       "        vertical-align: middle;\n",
       "    }\n",
       "\n",
       "    .dataframe tbody tr th {\n",
       "        vertical-align: top;\n",
       "    }\n",
       "\n",
       "    .dataframe thead th {\n",
       "        text-align: right;\n",
       "    }\n",
       "</style>\n",
       "<table border=\"1\" class=\"dataframe\">\n",
       "  <thead>\n",
       "    <tr style=\"text-align: right;\">\n",
       "      <th></th>\n",
       "      <th>gb_Deciles</th>\n",
       "      <th>Weekly_Sales</th>\n",
       "      <th>gb_pred_sales</th>\n",
       "    </tr>\n",
       "  </thead>\n",
       "  <tbody>\n",
       "    <tr>\n",
       "      <th>9</th>\n",
       "      <td>9</td>\n",
       "      <td>62846.108824</td>\n",
       "      <td>58173.889420</td>\n",
       "    </tr>\n",
       "    <tr>\n",
       "      <th>8</th>\n",
       "      <td>8</td>\n",
       "      <td>30607.491022</td>\n",
       "      <td>30142.634224</td>\n",
       "    </tr>\n",
       "    <tr>\n",
       "      <th>7</th>\n",
       "      <td>7</td>\n",
       "      <td>19601.799007</td>\n",
       "      <td>19881.265942</td>\n",
       "    </tr>\n",
       "    <tr>\n",
       "      <th>6</th>\n",
       "      <td>6</td>\n",
       "      <td>13275.912510</td>\n",
       "      <td>14387.046217</td>\n",
       "    </tr>\n",
       "    <tr>\n",
       "      <th>5</th>\n",
       "      <td>5</td>\n",
       "      <td>8852.304372</td>\n",
       "      <td>10643.033773</td>\n",
       "    </tr>\n",
       "    <tr>\n",
       "      <th>4</th>\n",
       "      <td>4</td>\n",
       "      <td>6637.150161</td>\n",
       "      <td>7970.038442</td>\n",
       "    </tr>\n",
       "    <tr>\n",
       "      <th>3</th>\n",
       "      <td>3</td>\n",
       "      <td>4311.914619</td>\n",
       "      <td>5794.035350</td>\n",
       "    </tr>\n",
       "    <tr>\n",
       "      <th>2</th>\n",
       "      <td>2</td>\n",
       "      <td>2835.019438</td>\n",
       "      <td>3804.758776</td>\n",
       "    </tr>\n",
       "    <tr>\n",
       "      <th>1</th>\n",
       "      <td>1</td>\n",
       "      <td>1628.426662</td>\n",
       "      <td>1754.270825</td>\n",
       "    </tr>\n",
       "    <tr>\n",
       "      <th>0</th>\n",
       "      <td>0</td>\n",
       "      <td>593.554579</td>\n",
       "      <td>-1231.938545</td>\n",
       "    </tr>\n",
       "  </tbody>\n",
       "</table>\n",
       "</div>"
      ],
      "text/plain": [
       "   gb_Deciles  Weekly_Sales  gb_pred_sales\n",
       "9           9  62846.108824   58173.889420\n",
       "8           8  30607.491022   30142.634224\n",
       "7           7  19601.799007   19881.265942\n",
       "6           6  13275.912510   14387.046217\n",
       "5           5   8852.304372   10643.033773\n",
       "4           4   6637.150161    7970.038442\n",
       "3           3   4311.914619    5794.035350\n",
       "2           2   2835.019438    3804.758776\n",
       "1           1   1628.426662    1754.270825\n",
       "0           0    593.554579   -1231.938545"
      ]
     },
     "execution_count": 79,
     "metadata": {},
     "output_type": "execute_result"
    }
   ],
   "source": [
    "gb_decile_test.to_excel(output, 'Decile Analysis', startrow=4 , startcol=14, index = False)\n",
    "gb_decile_test"
   ]
  },
  {
   "cell_type": "code",
   "execution_count": 80,
   "metadata": {},
   "outputs": [
    {
     "data": {
      "text/plain": [
       "<BarContainer object of 15 artists>"
      ]
     },
     "execution_count": 80,
     "metadata": {},
     "output_type": "execute_result"
    },
    {
     "data": {
      "image/png": "[encoded data removed]",
      "text/plain": [
       "<Figure size 432x288 with 1 Axes>"
      ]
     },
     "metadata": {
      "needs_background": "light"
     },
     "output_type": "display_data"
    }
   ],
   "source": [
    "#Feature Impotance \n",
    "gb_fi = pd.DataFrame({'Features' : train_x.columns ,\n",
    "                      'Importance' : gb.feature_importances_\n",
    "                     }).sort_values(by = 'Importance').reset_index(drop = True)\n",
    "\n",
    "gb_fi.to_excel(output, 'Drivers', startrow=22, startcol=1, index = False)\n",
    "\n",
    "plt.barh(width = gb_fi.Importance, y = gb_fi.Features)"
   ]
  },
  {
   "cell_type": "markdown",
   "metadata": {},
   "source": [
    "# KNN Model"
   ]
  },
  {
   "cell_type": "code",
   "execution_count": 81,
   "metadata": {},
   "outputs": [],
   "source": [
    "#Getting parameters for best fit using GridSeachCV\n",
    "pg = {'n_neighbors' : range(10,25,1)\n",
    "              }\n",
    "\n",
    "gscv_knn = GridSearchCV(estimator = KNeighborsRegressor(), \n",
    "                     param_grid = pg,\n",
    "                     scoring = 'neg_mean_absolute_error',\n",
    "                     cv = 14,\n",
    "                     n_jobs = -1).fit(train_x, train_y)"
   ]
  },
  {
   "cell_type": "code",
   "execution_count": 82,
   "metadata": {},
   "outputs": [
    {
     "data": {
      "text/plain": [
       "{'n_neighbors': 10}"
      ]
     },
     "execution_count": 82,
     "metadata": {},
     "output_type": "execute_result"
    }
   ],
   "source": [
    "#Best fit Parameters\n",
    "gscv_knn.best_params_"
   ]
  },
  {
   "cell_type": "code",
   "execution_count": 83,
   "metadata": {},
   "outputs": [
    {
     "data": {
      "text/plain": [
       "12063.256665632947"
      ]
     },
     "execution_count": 83,
     "metadata": {},
     "output_type": "execute_result"
    }
   ],
   "source": [
    "#Best Score\n",
    "-1 * gscv_knn.best_score_"
   ]
  },
  {
   "cell_type": "code",
   "execution_count": 84,
   "metadata": {},
   "outputs": [],
   "source": [
    "#Using best fit parameters to fit the model\n",
    "knn = gscv_knn.best_estimator_\n",
    "\n",
    "#Predicting total spent on train and test dataset\n",
    "tr.loc[:, 'knn_pred_sales'] = gscv_knn.predict(train_x)\n",
    "ts.loc[:, 'knn_pred_sales'] = gscv_knn.predict(test_x)"
   ]
  },
  {
   "cell_type": "code",
   "execution_count": 85,
   "metadata": {},
   "outputs": [
    {
     "name": "stdout",
     "output_type": "stream",
     "text": [
      "R-square Score: 0.19933950596288497\n",
      "\n",
      "Training MSE: 271840625.8517049  |  Testing MSE: 338984412.4046163\n",
      "Training RMSE:  16487.590055908866  |  Testing RMSE: 18411.52933367069\n",
      "\n",
      "Training MAE: 10701.358222265206 | Testing MAE: 11996.334663784352\n",
      "\n",
      "Training MAPE: 26.645770720220106 | Testing MAPE: 29.003242992542017\n",
      "\n",
      "Training RMSPE: 241.20473173279592  |  Testing RMSPE: 229.8214311175857\n"
     ]
    }
   ],
   "source": [
    "#R-square Score\n",
    "knn_r2 = metrics.r2_score(test_y, ts.knn_pred_sales)\n",
    "\n",
    "print('R-square Score:', knn_r2)\n",
    "\n",
    "#Getting Mean Squared Error Metric - MSE\n",
    "knn_MSE_train = metrics.mean_squared_error(train_y, tr.knn_pred_sales)\n",
    "knn_MSE_test = metrics.mean_squared_error(test_y, ts.knn_pred_sales)\n",
    "\n",
    "print('\\nTraining MSE:', knn_MSE_train,' | ','Testing MSE:', knn_MSE_test)\n",
    "\n",
    "#Getting Root Mean Squared Error - RMSE\n",
    "knn_RMSE_train = np.sqrt(knn_MSE_train)\n",
    "knn_RMSE_test = np.sqrt(knn_MSE_test)\n",
    "\n",
    "print('Training RMSE: ',knn_RMSE_train,' | ','Testing RMSE:',knn_RMSE_test)\n",
    "\n",
    "#Getting Mean Absolute Error Metric - MAE\n",
    "knn_MAE_train = metrics.mean_absolute_error(train_y, tr.knn_pred_sales)\n",
    "knn_MAE_test = metrics.mean_absolute_error(test_y, ts.knn_pred_sales)\n",
    "\n",
    "print('\\nTraining MAE:', knn_MAE_train, '|', 'Testing MAE:', knn_MAE_test)\n",
    "\n",
    "#Getting Mean Absolute Percentage Error - MAPE\n",
    "knn_MAPE_train = np.mean(np.abs(train_y - tr['knn_pred_sales'])/train_y)\n",
    "knn_MAPE_test = np.mean(np.abs(test_y - ts['knn_pred_sales'])/test_y)\n",
    "                    \n",
    "print('\\nTraining MAPE:', knn_MAPE_train, '|', 'Testing MAPE:', knn_MAPE_test)\n",
    "\n",
    "#Getting Root Mean Squared Percentage Error - RMSPE\n",
    "knn_RMSPE_train = np.sqrt(np.mean(((train_y - tr['knn_pred_sales'])/train_y)**2))\n",
    "knn_RMSPE_test = np.sqrt(np.mean(((test_y - ts['knn_pred_sales'])/test_y)**2))\n",
    "\n",
    "print('\\nTraining RMSPE:', knn_RMSPE_train,' | ','Testing RMSPE:', knn_RMSPE_test)"
   ]
  },
  {
   "cell_type": "code",
   "execution_count": 86,
   "metadata": {},
   "outputs": [
    {
     "name": "stdout",
     "output_type": "stream",
     "text": [
      "Correlation - Train Data:  (0.6011257987429236, 0.0) | Test Data:  (0.4591322557112481, 0.0)\n"
     ]
    }
   ],
   "source": [
    "#Correlation between actual and predicted values\n",
    "Corr_train = stats.stats.pearsonr(train_y, tr.knn_pred_sales)\n",
    "Corr_test = stats.stats.pearsonr(test_y, ts.knn_pred_sales)\n",
    "\n",
    "print('Correlation - Train Data: ', Corr_train, '|', 'Test Data: ', Corr_test)"
   ]
  },
  {
   "cell_type": "markdown",
   "metadata": {},
   "source": [
    "### Decile Analysis"
   ]
  },
  {
   "cell_type": "code",
   "execution_count": 87,
   "metadata": {},
   "outputs": [],
   "source": [
    "\n",
    "#Creating Deciles\n",
    "tr.loc[:, 'knn_Deciles'] = pd.qcut(tr.knn_pred_sales, 10, labels = False)\n",
    "ts.loc[:, 'knn_Deciles'] = pd.qcut(ts.knn_pred_sales, 10, labels = False)\n",
    "\n",
    "#Summarizing the data by deciles on train and test dataset\n",
    "knn_decile_train = tr.groupby(['knn_Deciles'])[['Weekly_Sales','knn_pred_sales']].mean().reset_index().sort_values(by = 'knn_Deciles', ascending = False)\n",
    "knn_decile_test = ts.groupby(['knn_Deciles'])[['Weekly_Sales','knn_pred_sales']].mean().reset_index().sort_values(by = 'knn_Deciles', ascending = False)"
   ]
  },
  {
   "cell_type": "code",
   "execution_count": 88,
   "metadata": {},
   "outputs": [
    {
     "data": {
      "text/html": [
       "<div>\n",
       "<style scoped>\n",
       "    .dataframe tbody tr th:only-of-type {\n",
       "        vertical-align: middle;\n",
       "    }\n",
       "\n",
       "    .dataframe tbody tr th {\n",
       "        vertical-align: top;\n",
       "    }\n",
       "\n",
       "    .dataframe thead th {\n",
       "        text-align: right;\n",
       "    }\n",
       "</style>\n",
       "<table border=\"1\" class=\"dataframe\">\n",
       "  <thead>\n",
       "    <tr style=\"text-align: right;\">\n",
       "      <th></th>\n",
       "      <th>knn_Deciles</th>\n",
       "      <th>Weekly_Sales</th>\n",
       "      <th>knn_pred_sales</th>\n",
       "    </tr>\n",
       "  </thead>\n",
       "  <tbody>\n",
       "    <tr>\n",
       "      <th>9</th>\n",
       "      <td>9</td>\n",
       "      <td>43151.564207</td>\n",
       "      <td>42352.769224</td>\n",
       "    </tr>\n",
       "    <tr>\n",
       "      <th>8</th>\n",
       "      <td>8</td>\n",
       "      <td>27631.253161</td>\n",
       "      <td>26923.128904</td>\n",
       "    </tr>\n",
       "    <tr>\n",
       "      <th>7</th>\n",
       "      <td>7</td>\n",
       "      <td>20985.383834</td>\n",
       "      <td>20185.277388</td>\n",
       "    </tr>\n",
       "    <tr>\n",
       "      <th>6</th>\n",
       "      <td>6</td>\n",
       "      <td>16402.953155</td>\n",
       "      <td>16323.252695</td>\n",
       "    </tr>\n",
       "    <tr>\n",
       "      <th>5</th>\n",
       "      <td>5</td>\n",
       "      <td>13271.325071</td>\n",
       "      <td>13487.688480</td>\n",
       "    </tr>\n",
       "    <tr>\n",
       "      <th>4</th>\n",
       "      <td>4</td>\n",
       "      <td>10606.232115</td>\n",
       "      <td>11172.932443</td>\n",
       "    </tr>\n",
       "    <tr>\n",
       "      <th>3</th>\n",
       "      <td>3</td>\n",
       "      <td>8252.772444</td>\n",
       "      <td>8983.804954</td>\n",
       "    </tr>\n",
       "    <tr>\n",
       "      <th>2</th>\n",
       "      <td>2</td>\n",
       "      <td>6355.429742</td>\n",
       "      <td>6828.022883</td>\n",
       "    </tr>\n",
       "    <tr>\n",
       "      <th>1</th>\n",
       "      <td>1</td>\n",
       "      <td>4018.831680</td>\n",
       "      <td>4443.206339</td>\n",
       "    </tr>\n",
       "    <tr>\n",
       "      <th>0</th>\n",
       "      <td>0</td>\n",
       "      <td>1116.586175</td>\n",
       "      <td>1290.475826</td>\n",
       "    </tr>\n",
       "  </tbody>\n",
       "</table>\n",
       "</div>"
      ],
      "text/plain": [
       "   knn_Deciles  Weekly_Sales  knn_pred_sales\n",
       "9            9  43151.564207    42352.769224\n",
       "8            8  27631.253161    26923.128904\n",
       "7            7  20985.383834    20185.277388\n",
       "6            6  16402.953155    16323.252695\n",
       "5            5  13271.325071    13487.688480\n",
       "4            4  10606.232115    11172.932443\n",
       "3            3   8252.772444     8983.804954\n",
       "2            2   6355.429742     6828.022883\n",
       "1            1   4018.831680     4443.206339\n",
       "0            0   1116.586175     1290.475826"
      ]
     },
     "execution_count": 88,
     "metadata": {},
     "output_type": "execute_result"
    }
   ],
   "source": [
    "knn_decile_train.to_excel(output, 'Decile Analysis', startrow=4 , startcol=10, index = False)\n",
    "knn_decile_train"
   ]
  },
  {
   "cell_type": "code",
   "execution_count": 89,
   "metadata": {},
   "outputs": [
    {
     "data": {
      "text/html": [
       "<div>\n",
       "<style scoped>\n",
       "    .dataframe tbody tr th:only-of-type {\n",
       "        vertical-align: middle;\n",
       "    }\n",
       "\n",
       "    .dataframe tbody tr th {\n",
       "        vertical-align: top;\n",
       "    }\n",
       "\n",
       "    .dataframe thead th {\n",
       "        text-align: right;\n",
       "    }\n",
       "</style>\n",
       "<table border=\"1\" class=\"dataframe\">\n",
       "  <thead>\n",
       "    <tr style=\"text-align: right;\">\n",
       "      <th></th>\n",
       "      <th>knn_Deciles</th>\n",
       "      <th>Weekly_Sales</th>\n",
       "      <th>knn_pred_sales</th>\n",
       "    </tr>\n",
       "  </thead>\n",
       "  <tbody>\n",
       "    <tr>\n",
       "      <th>9</th>\n",
       "      <td>9</td>\n",
       "      <td>37416.373760</td>\n",
       "      <td>41809.062837</td>\n",
       "    </tr>\n",
       "    <tr>\n",
       "      <th>8</th>\n",
       "      <td>8</td>\n",
       "      <td>25777.450928</td>\n",
       "      <td>26736.397334</td>\n",
       "    </tr>\n",
       "    <tr>\n",
       "      <th>7</th>\n",
       "      <td>7</td>\n",
       "      <td>18281.323609</td>\n",
       "      <td>20056.211557</td>\n",
       "    </tr>\n",
       "    <tr>\n",
       "      <th>6</th>\n",
       "      <td>6</td>\n",
       "      <td>14821.733054</td>\n",
       "      <td>16237.905215</td>\n",
       "    </tr>\n",
       "    <tr>\n",
       "      <th>5</th>\n",
       "      <td>5</td>\n",
       "      <td>13324.007811</td>\n",
       "      <td>13545.681339</td>\n",
       "    </tr>\n",
       "    <tr>\n",
       "      <th>4</th>\n",
       "      <td>4</td>\n",
       "      <td>11690.016731</td>\n",
       "      <td>11340.796029</td>\n",
       "    </tr>\n",
       "    <tr>\n",
       "      <th>3</th>\n",
       "      <td>3</td>\n",
       "      <td>10064.244254</td>\n",
       "      <td>9224.531475</td>\n",
       "    </tr>\n",
       "    <tr>\n",
       "      <th>2</th>\n",
       "      <td>2</td>\n",
       "      <td>9065.077088</td>\n",
       "      <td>7071.418232</td>\n",
       "    </tr>\n",
       "    <tr>\n",
       "      <th>1</th>\n",
       "      <td>1</td>\n",
       "      <td>7366.502946</td>\n",
       "      <td>4680.336252</td>\n",
       "    </tr>\n",
       "    <tr>\n",
       "      <th>0</th>\n",
       "      <td>0</td>\n",
       "      <td>3393.085687</td>\n",
       "      <td>1418.324137</td>\n",
       "    </tr>\n",
       "  </tbody>\n",
       "</table>\n",
       "</div>"
      ],
      "text/plain": [
       "   knn_Deciles  Weekly_Sales  knn_pred_sales\n",
       "9            9  37416.373760    41809.062837\n",
       "8            8  25777.450928    26736.397334\n",
       "7            7  18281.323609    20056.211557\n",
       "6            6  14821.733054    16237.905215\n",
       "5            5  13324.007811    13545.681339\n",
       "4            4  11690.016731    11340.796029\n",
       "3            3  10064.244254     9224.531475\n",
       "2            2   9065.077088     7071.418232\n",
       "1            1   7366.502946     4680.336252\n",
       "0            0   3393.085687     1418.324137"
      ]
     },
     "execution_count": 89,
     "metadata": {},
     "output_type": "execute_result"
    }
   ],
   "source": [
    "knn_decile_test.to_excel(output, 'Decile Analysis', startrow=4 , startcol=14, index = False)\n",
    "knn_decile_test"
   ]
  },
  {
   "cell_type": "markdown",
   "metadata": {},
   "source": [
    "# Extra Tree Model"
   ]
  },
  {
   "cell_type": "code",
   "execution_count": 90,
   "metadata": {},
   "outputs": [],
   "source": [
    "#Setting parameters\n",
    "et = ExtraTreesRegressor(n_estimators = 100, random_state = 123,\n",
    "                           n_jobs = -1).fit(train_x, train_y)"
   ]
  },
  {
   "cell_type": "code",
   "execution_count": 91,
   "metadata": {},
   "outputs": [],
   "source": [
    "#Making dataframes to store train and test predicted values \n",
    "tr = pd.DataFrame(train_y)\n",
    "ts = pd.DataFrame(test_y)\n",
    "\n",
    "#Predicting total spent on train and test dataset\n",
    "tr.loc[:, 'et_pred_sales'] = et.predict(train_x)\n",
    "ts.loc[:, 'et_pred_sales'] = et.predict(test_x)"
   ]
  },
  {
   "cell_type": "code",
   "execution_count": 92,
   "metadata": {},
   "outputs": [
    {
     "name": "stdout",
     "output_type": "stream",
     "text": [
      "R-square Score: 0.9797466176294184\n",
      "\n",
      "Training MSE: 1.1454260961315708e-21  |  Testing MSE: 8574896.56755733\n",
      "Training RMSE:  3.384414419263059e-11  |  Testing RMSE: 2928.2924320424913\n",
      "\n",
      "Training MAE: 1.7888627871069376e-11 | Testing MAE: 1314.1615204998852\n",
      "\n",
      "Training MAPE: 1.148090624229905e-15 | Testing MAPE: 1.4150225782848647\n",
      "\n",
      "Training RMSPE: 1.3547891630308512e-15  |  Testing RMSPE: 19.463287252353663\n"
     ]
    }
   ],
   "source": [
    "#R-square Score\n",
    "et_r2 = metrics.r2_score(test_y, ts.et_pred_sales)\n",
    "print('R-square Score:', et_r2)\n",
    "\n",
    "#Getting Mean Squared Error Metric - MSE\n",
    "et_MSE_train = metrics.mean_squared_error(train_y, tr.et_pred_sales)\n",
    "et_MSE_test = metrics.mean_squared_error(test_y, ts.et_pred_sales)\n",
    "\n",
    "print('\\nTraining MSE:', et_MSE_train,' | ','Testing MSE:', et_MSE_test)\n",
    "\n",
    "#Getting Root Mean Squared Error - RMSE\n",
    "et_RMSE_train = np.sqrt(et_MSE_train)\n",
    "et_RMSE_test = np.sqrt(et_MSE_test)\n",
    "\n",
    "print('Training RMSE: ',et_RMSE_train,' | ','Testing RMSE:',et_RMSE_test)\n",
    "\n",
    "#Getting Mean Absolute Error Metric - MAE\n",
    "et_MAE_train = metrics.mean_absolute_error(train_y, tr.et_pred_sales)\n",
    "et_MAE_test = metrics.mean_absolute_error(test_y, ts.et_pred_sales)\n",
    "\n",
    "print('\\nTraining MAE:', et_MAE_train, '|', 'Testing MAE:', et_MAE_test)\n",
    "\n",
    "#Getting Mean Absolute Percentage Error - MAPE\n",
    "et_MAPE_train = np.mean(np.abs(train_y - tr['et_pred_sales'])/train_y)\n",
    "et_MAPE_test = np.mean(np.abs(test_y - ts['et_pred_sales'])/test_y)\n",
    "                    \n",
    "print('\\nTraining MAPE:', et_MAPE_train, '|', 'Testing MAPE:', et_MAPE_test)\n",
    "\n",
    "#Getting Root Mean Squared Percentage Error - RMSPE\n",
    "et_RMSPE_train = np.sqrt(np.mean(((train_y - tr['et_pred_sales'])/train_y)**2))\n",
    "et_RMSPE_test = np.sqrt(np.mean(((test_y - ts['et_pred_sales'])/test_y)**2))\n",
    "\n",
    "print('\\nTraining RMSPE:', et_RMSPE_train,' | ','Testing RMSPE:', et_RMSPE_test)"
   ]
  },
  {
   "cell_type": "code",
   "execution_count": 93,
   "metadata": {},
   "outputs": [
    {
     "name": "stdout",
     "output_type": "stream",
     "text": [
      "Correlation - Train Data:  (1.0, 0.0) | Test Data:  (0.9898937607668439, 0.0)\n"
     ]
    }
   ],
   "source": [
    "#Correlation between actual and predicted values\n",
    "Corr_train = stats.stats.pearsonr(train_y, tr.et_pred_sales)\n",
    "Corr_test = stats.stats.pearsonr(test_y, ts.et_pred_sales)\n",
    "\n",
    "print('Correlation - Train Data: ', Corr_train, '|', 'Test Data: ', Corr_test)"
   ]
  },
  {
   "cell_type": "markdown",
   "metadata": {},
   "source": [
    "### Decile Analysis"
   ]
  },
  {
   "cell_type": "code",
   "execution_count": 94,
   "metadata": {},
   "outputs": [],
   "source": [
    "#Decile Analysis\n",
    "#Creating Deciles\n",
    "tr.loc[:, 'et_Deciles'] = pd.qcut(tr.et_pred_sales, 10, labels = False)\n",
    "ts.loc[:, 'et_Deciles'] = pd.qcut(ts.et_pred_sales, 10, labels = False)\n",
    "\n",
    "#Summarizing the data by deciles on train and test dataset\n",
    "et_decile_train = tr.groupby(['et_Deciles'])[['Weekly_Sales','et_pred_sales']].mean().reset_index().sort_values(by = 'et_Deciles', ascending = False)\n",
    "et_decile_test = ts.groupby(['et_Deciles'])[['Weekly_Sales','et_pred_sales']].mean().reset_index().sort_values(by = 'et_Deciles', ascending = False)"
   ]
  },
  {
   "cell_type": "code",
   "execution_count": 95,
   "metadata": {},
   "outputs": [
    {
     "data": {
      "text/html": [
       "<div>\n",
       "<style scoped>\n",
       "    .dataframe tbody tr th:only-of-type {\n",
       "        vertical-align: middle;\n",
       "    }\n",
       "\n",
       "    .dataframe tbody tr th {\n",
       "        vertical-align: top;\n",
       "    }\n",
       "\n",
       "    .dataframe thead th {\n",
       "        text-align: right;\n",
       "    }\n",
       "</style>\n",
       "<table border=\"1\" class=\"dataframe\">\n",
       "  <thead>\n",
       "    <tr style=\"text-align: right;\">\n",
       "      <th></th>\n",
       "      <th>et_Deciles</th>\n",
       "      <th>Weekly_Sales</th>\n",
       "      <th>et_pred_sales</th>\n",
       "    </tr>\n",
       "  </thead>\n",
       "  <tbody>\n",
       "    <tr>\n",
       "      <th>9</th>\n",
       "      <td>9</td>\n",
       "      <td>66278.891394</td>\n",
       "      <td>66278.891394</td>\n",
       "    </tr>\n",
       "    <tr>\n",
       "      <th>8</th>\n",
       "      <td>8</td>\n",
       "      <td>32260.929910</td>\n",
       "      <td>32260.929910</td>\n",
       "    </tr>\n",
       "    <tr>\n",
       "      <th>7</th>\n",
       "      <td>7</td>\n",
       "      <td>19812.803740</td>\n",
       "      <td>19812.803740</td>\n",
       "    </tr>\n",
       "    <tr>\n",
       "      <th>6</th>\n",
       "      <td>6</td>\n",
       "      <td>13206.864986</td>\n",
       "      <td>13206.864986</td>\n",
       "    </tr>\n",
       "    <tr>\n",
       "      <th>5</th>\n",
       "      <td>5</td>\n",
       "      <td>8799.051027</td>\n",
       "      <td>8799.051027</td>\n",
       "    </tr>\n",
       "    <tr>\n",
       "      <th>4</th>\n",
       "      <td>4</td>\n",
       "      <td>5675.300217</td>\n",
       "      <td>5675.300217</td>\n",
       "    </tr>\n",
       "    <tr>\n",
       "      <th>3</th>\n",
       "      <td>3</td>\n",
       "      <td>3431.636514</td>\n",
       "      <td>3431.636514</td>\n",
       "    </tr>\n",
       "    <tr>\n",
       "      <th>2</th>\n",
       "      <td>2</td>\n",
       "      <td>1738.112894</td>\n",
       "      <td>1738.112894</td>\n",
       "    </tr>\n",
       "    <tr>\n",
       "      <th>1</th>\n",
       "      <td>1</td>\n",
       "      <td>534.922433</td>\n",
       "      <td>534.922433</td>\n",
       "    </tr>\n",
       "    <tr>\n",
       "      <th>0</th>\n",
       "      <td>0</td>\n",
       "      <td>50.511284</td>\n",
       "      <td>50.511284</td>\n",
       "    </tr>\n",
       "  </tbody>\n",
       "</table>\n",
       "</div>"
      ],
      "text/plain": [
       "   et_Deciles  Weekly_Sales  et_pred_sales\n",
       "9           9  66278.891394   66278.891394\n",
       "8           8  32260.929910   32260.929910\n",
       "7           7  19812.803740   19812.803740\n",
       "6           6  13206.864986   13206.864986\n",
       "5           5   8799.051027    8799.051027\n",
       "4           4   5675.300217    5675.300217\n",
       "3           3   3431.636514    3431.636514\n",
       "2           2   1738.112894    1738.112894\n",
       "1           1    534.922433     534.922433\n",
       "0           0     50.511284      50.511284"
      ]
     },
     "execution_count": 95,
     "metadata": {},
     "output_type": "execute_result"
    }
   ],
   "source": [
    "et_decile_train.to_excel(output, 'Decile Analysis', startrow=4 , startcol=18, index = False)\n",
    "et_decile_train"
   ]
  },
  {
   "cell_type": "code",
   "execution_count": 96,
   "metadata": {},
   "outputs": [
    {
     "data": {
      "text/html": [
       "<div>\n",
       "<style scoped>\n",
       "    .dataframe tbody tr th:only-of-type {\n",
       "        vertical-align: middle;\n",
       "    }\n",
       "\n",
       "    .dataframe tbody tr th {\n",
       "        vertical-align: top;\n",
       "    }\n",
       "\n",
       "    .dataframe thead th {\n",
       "        text-align: right;\n",
       "    }\n",
       "</style>\n",
       "<table border=\"1\" class=\"dataframe\">\n",
       "  <thead>\n",
       "    <tr style=\"text-align: right;\">\n",
       "      <th></th>\n",
       "      <th>et_Deciles</th>\n",
       "      <th>Weekly_Sales</th>\n",
       "      <th>et_pred_sales</th>\n",
       "    </tr>\n",
       "  </thead>\n",
       "  <tbody>\n",
       "    <tr>\n",
       "      <th>9</th>\n",
       "      <td>9</td>\n",
       "      <td>65593.144257</td>\n",
       "      <td>64861.791578</td>\n",
       "    </tr>\n",
       "    <tr>\n",
       "      <th>8</th>\n",
       "      <td>8</td>\n",
       "      <td>32004.634472</td>\n",
       "      <td>31897.307221</td>\n",
       "    </tr>\n",
       "    <tr>\n",
       "      <th>7</th>\n",
       "      <td>7</td>\n",
       "      <td>19754.785866</td>\n",
       "      <td>19902.641005</td>\n",
       "    </tr>\n",
       "    <tr>\n",
       "      <th>6</th>\n",
       "      <td>6</td>\n",
       "      <td>13263.186876</td>\n",
       "      <td>13481.742726</td>\n",
       "    </tr>\n",
       "    <tr>\n",
       "      <th>5</th>\n",
       "      <td>5</td>\n",
       "      <td>8901.962302</td>\n",
       "      <td>9126.649757</td>\n",
       "    </tr>\n",
       "    <tr>\n",
       "      <th>4</th>\n",
       "      <td>4</td>\n",
       "      <td>5739.572166</td>\n",
       "      <td>6001.993392</td>\n",
       "    </tr>\n",
       "    <tr>\n",
       "      <th>3</th>\n",
       "      <td>3</td>\n",
       "      <td>3482.449972</td>\n",
       "      <td>3708.496944</td>\n",
       "    </tr>\n",
       "    <tr>\n",
       "      <th>2</th>\n",
       "      <td>2</td>\n",
       "      <td>1787.418136</td>\n",
       "      <td>1957.765329</td>\n",
       "    </tr>\n",
       "    <tr>\n",
       "      <th>1</th>\n",
       "      <td>1</td>\n",
       "      <td>584.342288</td>\n",
       "      <td>684.402142</td>\n",
       "    </tr>\n",
       "    <tr>\n",
       "      <th>0</th>\n",
       "      <td>0</td>\n",
       "      <td>77.859402</td>\n",
       "      <td>95.269120</td>\n",
       "    </tr>\n",
       "  </tbody>\n",
       "</table>\n",
       "</div>"
      ],
      "text/plain": [
       "   et_Deciles  Weekly_Sales  et_pred_sales\n",
       "9           9  65593.144257   64861.791578\n",
       "8           8  32004.634472   31897.307221\n",
       "7           7  19754.785866   19902.641005\n",
       "6           6  13263.186876   13481.742726\n",
       "5           5   8901.962302    9126.649757\n",
       "4           4   5739.572166    6001.993392\n",
       "3           3   3482.449972    3708.496944\n",
       "2           2   1787.418136    1957.765329\n",
       "1           1    584.342288     684.402142\n",
       "0           0     77.859402      95.269120"
      ]
     },
     "execution_count": 96,
     "metadata": {},
     "output_type": "execute_result"
    }
   ],
   "source": [
    "et_decile_test.to_excel(output, 'Decile Analysis', startrow=4 , startcol=14, index = False)\n",
    "et_decile_test"
   ]
  },
  {
   "cell_type": "code",
   "execution_count": 97,
   "metadata": {},
   "outputs": [
    {
     "data": {
      "text/plain": [
       "<BarContainer object of 15 artists>"
      ]
     },
     "execution_count": 97,
     "metadata": {},
     "output_type": "execute_result"
    },
    {
     "data": {
      "image/png": "[encoded data removed]",
      "text/plain": [
       "<Figure size 432x288 with 1 Axes>"
      ]
     },
     "metadata": {
      "needs_background": "light"
     },
     "output_type": "display_data"
    }
   ],
   "source": [
    "#Feature Impotance \n",
    "et_fi = pd.DataFrame({'Features' : train_x.columns ,\n",
    "                      'Importance' : et.feature_importances_\n",
    "                     }).sort_values(by = 'Importance').reset_index(drop = True)\n",
    "\n",
    "et_fi.to_excel(output, 'Drivers', startrow=39, startcol=1, index = False)\n",
    "\n",
    "plt.barh(width = et_fi.Importance, y = et_fi.Features)"
   ]
  },
  {
   "cell_type": "markdown",
   "metadata": {},
   "source": [
    "## Evaluating the different metrics for each model"
   ]
  },
  {
   "cell_type": "code",
   "execution_count": 98,
   "metadata": {},
   "outputs": [],
   "source": [
    "#Getting accuracy and log loss for each model\n",
    "model_data = pd.DataFrame({'Regressor' : ['RandomForestRegressor', 'GradientBoostingRegressor','KNNRegeressor', 'ExtraTreeRegressor'],\n",
    "                        'Test_R2 Score' : [rf_r2, gb_r2,knn_r2, et_r2],\n",
    "                        'MAE_train' : [rf_MAE_train, gb_MAE_train,knn_MAE_train, et_MAE_train],\n",
    "                        'MAE_test' : [rf_MAE_test, gb_MAE_test, knn_MAE_test,et_MAE_test],\n",
    "                        'MSE_train' : [rf_MSE_train, gb_MSE_train,knn_MSE_train, et_MSE_train],\n",
    "                        'MSE_test' : [rf_MSE_test, gb_MSE_test,knn_MSE_test, et_MSE_test],   \n",
    "                        'RMSE_train' : [rf_RMSE_train, gb_RMSE_train, knn_RMSE_train, et_RMSE_train],\n",
    "                        'RMSE_test' : [rf_RMSE_test, gb_RMSE_test, knn_RMSE_test,et_RMSE_test],\n",
    "                        'RMSPE_train' : [rf_RMSPE_train, gb_RMSPE_train, knn_RMSPE_train,et_RMSPE_train],  \n",
    "                        'RMSPE_test' : [rf_RMSPE_test, gb_RMSPE_test,knn_RMSPE_test, et_RMSPE_test]\n",
    "                        })"
   ]
  },
  {
   "cell_type": "code",
   "execution_count": 99,
   "metadata": {},
   "outputs": [
    {
     "data": {
      "text/html": [
       "<div>\n",
       "<style scoped>\n",
       "    .dataframe tbody tr th:only-of-type {\n",
       "        vertical-align: middle;\n",
       "    }\n",
       "\n",
       "    .dataframe tbody tr th {\n",
       "        vertical-align: top;\n",
       "    }\n",
       "\n",
       "    .dataframe thead th {\n",
       "        text-align: right;\n",
       "    }\n",
       "</style>\n",
       "<table border=\"1\" class=\"dataframe\">\n",
       "  <thead>\n",
       "    <tr style=\"text-align: right;\">\n",
       "      <th></th>\n",
       "      <th>Regressor</th>\n",
       "      <th>Test_R2 Score</th>\n",
       "      <th>MAE_train</th>\n",
       "      <th>MAE_test</th>\n",
       "      <th>MSE_train</th>\n",
       "      <th>MSE_test</th>\n",
       "      <th>RMSE_train</th>\n",
       "      <th>RMSE_test</th>\n",
       "      <th>RMSPE_train</th>\n",
       "      <th>RMSPE_test</th>\n",
       "    </tr>\n",
       "  </thead>\n",
       "  <tbody>\n",
       "    <tr>\n",
       "      <th>0</th>\n",
       "      <td>RandomForestRegressor</td>\n",
       "      <td>0.980642</td>\n",
       "      <td>4.825686e+02</td>\n",
       "      <td>1289.688794</td>\n",
       "      <td>1.211363e+06</td>\n",
       "      <td>8.195943e+06</td>\n",
       "      <td>1.100620e+03</td>\n",
       "      <td>2862.855820</td>\n",
       "      <td>2.383225e+01</td>\n",
       "      <td>22.954608</td>\n",
       "    </tr>\n",
       "    <tr>\n",
       "      <th>1</th>\n",
       "      <td>GradientBoostingRegressor</td>\n",
       "      <td>0.854931</td>\n",
       "      <td>4.968388e+03</td>\n",
       "      <td>5005.651016</td>\n",
       "      <td>6.101253e+07</td>\n",
       "      <td>6.141929e+07</td>\n",
       "      <td>7.811052e+03</td>\n",
       "      <td>7837.045802</td>\n",
       "      <td>1.511523e+02</td>\n",
       "      <td>135.705015</td>\n",
       "    </tr>\n",
       "    <tr>\n",
       "      <th>2</th>\n",
       "      <td>KNNRegeressor</td>\n",
       "      <td>0.199340</td>\n",
       "      <td>1.070136e+04</td>\n",
       "      <td>11996.334664</td>\n",
       "      <td>2.718406e+08</td>\n",
       "      <td>3.389844e+08</td>\n",
       "      <td>1.648759e+04</td>\n",
       "      <td>18411.529334</td>\n",
       "      <td>2.412047e+02</td>\n",
       "      <td>229.821431</td>\n",
       "    </tr>\n",
       "    <tr>\n",
       "      <th>3</th>\n",
       "      <td>ExtraTreeRegressor</td>\n",
       "      <td>0.979747</td>\n",
       "      <td>1.788863e-11</td>\n",
       "      <td>1314.161520</td>\n",
       "      <td>1.145426e-21</td>\n",
       "      <td>8.574897e+06</td>\n",
       "      <td>3.384414e-11</td>\n",
       "      <td>2928.292432</td>\n",
       "      <td>1.354789e-15</td>\n",
       "      <td>19.463287</td>\n",
       "    </tr>\n",
       "  </tbody>\n",
       "</table>\n",
       "</div>"
      ],
      "text/plain": [
       "                   Regressor  Test_R2 Score     MAE_train      MAE_test  \\\n",
       "0      RandomForestRegressor       0.980642  4.825686e+02   1289.688794   \n",
       "1  GradientBoostingRegressor       0.854931  4.968388e+03   5005.651016   \n",
       "2              KNNRegeressor       0.199340  1.070136e+04  11996.334664   \n",
       "3         ExtraTreeRegressor       0.979747  1.788863e-11   1314.161520   \n",
       "\n",
       "      MSE_train      MSE_test    RMSE_train     RMSE_test   RMSPE_train  \\\n",
       "0  1.211363e+06  8.195943e+06  1.100620e+03   2862.855820  2.383225e+01   \n",
       "1  6.101253e+07  6.141929e+07  7.811052e+03   7837.045802  1.511523e+02   \n",
       "2  2.718406e+08  3.389844e+08  1.648759e+04  18411.529334  2.412047e+02   \n",
       "3  1.145426e-21  8.574897e+06  3.384414e-11   2928.292432  1.354789e-15   \n",
       "\n",
       "   RMSPE_test  \n",
       "0   22.954608  \n",
       "1  135.705015  \n",
       "2  229.821431  \n",
       "3   19.463287  "
      ]
     },
     "execution_count": 99,
     "metadata": {},
     "output_type": "execute_result"
    }
   ],
   "source": [
    "model_data.round(2).to_excel(output, 'Metrics of Models', index = False)\n",
    "model_data"
   ]
  },
  {
   "cell_type": "code",
   "execution_count": 100,
   "metadata": {},
   "outputs": [
    {
     "data": {
      "image/png": "[encoded data removed]",
      "text/plain": [
       "<Figure size 360x216 with 1 Axes>"
      ]
     },
     "metadata": {
      "needs_background": "light"
     },
     "output_type": "display_data"
    },
    {
     "data": {
      "image/png": "[encoded data removed]",
      "text/plain": [
       "<Figure size 432x288 with 1 Axes>"
      ]
     },
     "metadata": {
      "needs_background": "light"
     },
     "output_type": "display_data"
    },
    {
     "data": {
      "image/png": "[encoded data removed]",
      "text/plain": [
       "<Figure size 432x288 with 1 Axes>"
      ]
     },
     "metadata": {
      "needs_background": "light"
     },
     "output_type": "display_data"
    },
    {
     "data": {
      "image/png": "[encoded data removed]",
      "text/plain": [
       "<Figure size 432x288 with 1 Axes>"
      ]
     },
     "metadata": {
      "needs_background": "light"
     },
     "output_type": "display_data"
    },
    {
     "data": {
      "image/png": "[encoded data removed]",
      "text/plain": [
       "<Figure size 432x288 with 1 Axes>"
      ]
     },
     "metadata": {
      "needs_background": "light"
     },
     "output_type": "display_data"
    }
   ],
   "source": [
    "#Visualizing different metrics of the models\n",
    "plt.figure(figsize = (5,3))\n",
    "sns.barplot(data = model_data, x = model_data['Test_R2 Score'], y = model_data.Regressor)\n",
    "plt.title('Model R2 Score')\n",
    "\n",
    "model_data.plot(x = 'Regressor', y = ['MAE_train', 'MAE_test'], kind = 'bar')\n",
    "model_data.plot(x = 'Regressor', y = ['MSE_train', 'MSE_test'], kind = 'bar')\n",
    "model_data.plot(x = 'Regressor', y = ['RMSE_train', 'RMSE_test'], kind = 'bar')\n",
    "model_data.plot(x = 'Regressor', y = ['RMSPE_train', 'RMSPE_test'], kind = 'bar')\n",
    "\n",
    "plt.show()"
   ]
  },
  {
   "cell_type": "markdown",
   "metadata": {},
   "source": [
    "Random Forest Model performs best on train dataset. We can use Random Forest Model to predict Weekly Sales for Walmart Stores."
   ]
  },
  {
   "cell_type": "markdown",
   "metadata": {},
   "source": [
    "### Final Prediction"
   ]
  },
  {
   "cell_type": "code",
   "execution_count": 101,
   "metadata": {},
   "outputs": [],
   "source": [
    "# Making Final Prediction on provided test dataset using Random Forest Model\n",
    "test['Weekly_Sales'] = rf.predict(test_final)\n",
    "\n",
    "final_pred = pd.DataFrame({\n",
    "             'Id' : test.Store.astype(str)+'_'+test.Dept.astype(str)+'_'+test.Date.astype(str),\n",
    "             'Weekly_Sales' : test.Weekly_Sales\n",
    "                        })\n",
    "\n",
    "#Saving prediction on test dataset to excel\n",
    "final_pred.to_excel(output, 'Predicted Weekly Sales', index = False)"
   ]
  },
  {
   "cell_type": "code",
   "execution_count": 102,
   "metadata": {},
   "outputs": [
    {
     "data": {
      "text/html": [
       "<div>\n",
       "<style scoped>\n",
       "    .dataframe tbody tr th:only-of-type {\n",
       "        vertical-align: middle;\n",
       "    }\n",
       "\n",
       "    .dataframe tbody tr th {\n",
       "        vertical-align: top;\n",
       "    }\n",
       "\n",
       "    .dataframe thead th {\n",
       "        text-align: right;\n",
       "    }\n",
       "</style>\n",
       "<table border=\"1\" class=\"dataframe\">\n",
       "  <thead>\n",
       "    <tr style=\"text-align: right;\">\n",
       "      <th></th>\n",
       "      <th>Id</th>\n",
       "      <th>Weekly_Sales</th>\n",
       "    </tr>\n",
       "  </thead>\n",
       "  <tbody>\n",
       "    <tr>\n",
       "      <th>0</th>\n",
       "      <td>1_1_2012-11-02</td>\n",
       "      <td>9435.903625</td>\n",
       "    </tr>\n",
       "    <tr>\n",
       "      <th>1</th>\n",
       "      <td>1_1_2012-11-09</td>\n",
       "      <td>9324.038092</td>\n",
       "    </tr>\n",
       "    <tr>\n",
       "      <th>2</th>\n",
       "      <td>1_1_2012-11-16</td>\n",
       "      <td>4538.704400</td>\n",
       "    </tr>\n",
       "    <tr>\n",
       "      <th>3</th>\n",
       "      <td>1_1_2012-11-23</td>\n",
       "      <td>10853.577942</td>\n",
       "    </tr>\n",
       "    <tr>\n",
       "      <th>4</th>\n",
       "      <td>1_1_2012-11-30</td>\n",
       "      <td>10968.208333</td>\n",
       "    </tr>\n",
       "    <tr>\n",
       "      <th>...</th>\n",
       "      <td>...</td>\n",
       "      <td>...</td>\n",
       "    </tr>\n",
       "    <tr>\n",
       "      <th>115059</th>\n",
       "      <td>45_98_2013-06-28</td>\n",
       "      <td>10814.962058</td>\n",
       "    </tr>\n",
       "    <tr>\n",
       "      <th>115060</th>\n",
       "      <td>45_98_2013-07-05</td>\n",
       "      <td>23655.287692</td>\n",
       "    </tr>\n",
       "    <tr>\n",
       "      <th>115061</th>\n",
       "      <td>45_98_2013-07-12</td>\n",
       "      <td>29957.582283</td>\n",
       "    </tr>\n",
       "    <tr>\n",
       "      <th>115062</th>\n",
       "      <td>45_98_2013-07-19</td>\n",
       "      <td>6959.721883</td>\n",
       "    </tr>\n",
       "    <tr>\n",
       "      <th>115063</th>\n",
       "      <td>45_98_2013-07-26</td>\n",
       "      <td>3611.745950</td>\n",
       "    </tr>\n",
       "  </tbody>\n",
       "</table>\n",
       "<p>115064 rows × 2 columns</p>\n",
       "</div>"
      ],
      "text/plain": [
       "                      Id  Weekly_Sales\n",
       "0         1_1_2012-11-02   9435.903625\n",
       "1         1_1_2012-11-09   9324.038092\n",
       "2         1_1_2012-11-16   4538.704400\n",
       "3         1_1_2012-11-23  10853.577942\n",
       "4         1_1_2012-11-30  10968.208333\n",
       "...                  ...           ...\n",
       "115059  45_98_2013-06-28  10814.962058\n",
       "115060  45_98_2013-07-05  23655.287692\n",
       "115061  45_98_2013-07-12  29957.582283\n",
       "115062  45_98_2013-07-19   6959.721883\n",
       "115063  45_98_2013-07-26   3611.745950\n",
       "\n",
       "[115064 rows x 2 columns]"
      ]
     },
     "execution_count": 102,
     "metadata": {},
     "output_type": "execute_result"
    }
   ],
   "source": [
    "#Predicted Weekly Sales\n",
    "final_pred"
   ]
  },
  {
   "cell_type": "code",
   "execution_count": null,
   "metadata": {},
   "outputs": [],
   "source": [
    "output.save()"
   ]
  },
  {
   "cell_type": "code",
   "execution_count": null,
   "metadata": {},
   "outputs": [],
   "source": []
  },
  {
   "cell_type": "code",
   "execution_count": null,
   "metadata": {},
   "outputs": [],
   "source": []
  }
 ],
 "metadata": {
  "kernelspec": {
   "display_name": "Python 3",
   "language": "python",
   "name": "python3"
  },
  "language_info": {
   "codemirror_mode": {
    "name": "ipython",
    "version": 3
   },
   "file_extension": ".py",
   "mimetype": "text/x-python",
   "name": "python",
   "nbconvert_exporter": "python",
   "pygments_lexer": "ipython3",
   "version": "3.7.6"
  }
 },
 "nbformat": 4,
 "nbformat_minor": 4
}
